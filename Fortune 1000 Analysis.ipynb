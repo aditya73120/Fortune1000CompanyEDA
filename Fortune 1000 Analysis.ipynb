{
 "cells": [
  {
   "cell_type": "markdown",
   "id": "8b44ad45",
   "metadata": {},
   "source": [
    "# Fortune 1000 companies - EDA and Descriptive analysis"
   ]
  },
  {
   "cell_type": "markdown",
   "id": "4acac19e",
   "metadata": {},
   "source": [
    "The Fortune 1000 is an annual list compiled and published by Fortune magazine that ranks 500 of the largest United States corporations by total revenue for their respective fiscal years. The list includes publicly held companies, along with privately held companies for which revenues are publicly available. We have derived insights regarding the drivers using different paramters we have analyzed from the dataset about the companies that have made it to the prestigious Fortune list."
   ]
  },
  {
   "cell_type": "markdown",
   "id": "6aaa6c44",
   "metadata": {},
   "source": [
    "##### Packages used: Pandas, numpy, matplotlib, seaborn, random and plotly\n",
    "\n",
    "##### Team:\n",
    "\n",
    "- Aditya Gupta\n",
    "- Adithya B Umamahesh\n",
    "- Karandeep S Mann\n",
    "- Siddhant Sharma\n",
    "- Vinod Iyer R"
   ]
  },
  {
   "cell_type": "code",
   "execution_count": 2,
   "id": "2f07372a",
   "metadata": {},
   "outputs": [],
   "source": [
    "import pandas as pd\n",
    "import numpy as np\n",
    "import matplotlib.pyplot as plt\n",
    "import seaborn as sns\n",
    "import random\n",
    "\n",
    "data = pd.read_csv(\"Fortune_1000.csv\")"
   ]
  },
  {
   "cell_type": "markdown",
   "id": "748e11bd",
   "metadata": {},
   "source": [
    "Sample display"
   ]
  },
  {
   "cell_type": "code",
   "execution_count": 3,
   "id": "7b3eb427",
   "metadata": {
    "scrolled": true
   },
   "outputs": [
    {
     "data": {
      "text/html": [
       "<div>\n",
       "<style scoped>\n",
       "    .dataframe tbody tr th:only-of-type {\n",
       "        vertical-align: middle;\n",
       "    }\n",
       "\n",
       "    .dataframe tbody tr th {\n",
       "        vertical-align: top;\n",
       "    }\n",
       "\n",
       "    .dataframe thead th {\n",
       "        text-align: right;\n",
       "    }\n",
       "</style>\n",
       "<table border=\"1\" class=\"dataframe\">\n",
       "  <thead>\n",
       "    <tr style=\"text-align: right;\">\n",
       "      <th></th>\n",
       "      <th>company</th>\n",
       "      <th>rank</th>\n",
       "      <th>rank_change</th>\n",
       "      <th>revenue</th>\n",
       "      <th>profit</th>\n",
       "      <th>num. of employees</th>\n",
       "      <th>sector</th>\n",
       "      <th>city</th>\n",
       "      <th>state</th>\n",
       "      <th>newcomer</th>\n",
       "      <th>ceo_founder</th>\n",
       "      <th>ceo_woman</th>\n",
       "      <th>profitable</th>\n",
       "      <th>prev_rank</th>\n",
       "      <th>CEO</th>\n",
       "      <th>Website</th>\n",
       "      <th>Ticker</th>\n",
       "      <th>Market Cap</th>\n",
       "    </tr>\n",
       "  </thead>\n",
       "  <tbody>\n",
       "    <tr>\n",
       "      <th>0</th>\n",
       "      <td>Walmart</td>\n",
       "      <td>1</td>\n",
       "      <td>0.0</td>\n",
       "      <td>523964.0</td>\n",
       "      <td>14881.0</td>\n",
       "      <td>2200000</td>\n",
       "      <td>Retailing</td>\n",
       "      <td>Bentonville</td>\n",
       "      <td>AR</td>\n",
       "      <td>no</td>\n",
       "      <td>no</td>\n",
       "      <td>no</td>\n",
       "      <td>yes</td>\n",
       "      <td>1.0</td>\n",
       "      <td>C. Douglas McMillon</td>\n",
       "      <td>https://www.stock.walmart.com</td>\n",
       "      <td>WMT</td>\n",
       "      <td>411690</td>\n",
       "    </tr>\n",
       "    <tr>\n",
       "      <th>1</th>\n",
       "      <td>Amazon</td>\n",
       "      <td>2</td>\n",
       "      <td>3.0</td>\n",
       "      <td>280522.0</td>\n",
       "      <td>11588.0</td>\n",
       "      <td>798000</td>\n",
       "      <td>Retailing</td>\n",
       "      <td>Seattle</td>\n",
       "      <td>WA</td>\n",
       "      <td>no</td>\n",
       "      <td>yes</td>\n",
       "      <td>no</td>\n",
       "      <td>yes</td>\n",
       "      <td>5.0</td>\n",
       "      <td>Jeffrey P. Bezos</td>\n",
       "      <td>https://www.amazon.com</td>\n",
       "      <td>AMZN</td>\n",
       "      <td>1637405</td>\n",
       "    </tr>\n",
       "    <tr>\n",
       "      <th>2</th>\n",
       "      <td>Exxon Mobil</td>\n",
       "      <td>3</td>\n",
       "      <td>-1.0</td>\n",
       "      <td>264938.0</td>\n",
       "      <td>14340.0</td>\n",
       "      <td>74900</td>\n",
       "      <td>Energy</td>\n",
       "      <td>Irving</td>\n",
       "      <td>TX</td>\n",
       "      <td>no</td>\n",
       "      <td>no</td>\n",
       "      <td>no</td>\n",
       "      <td>yes</td>\n",
       "      <td>2.0</td>\n",
       "      <td>Darren W. Woods</td>\n",
       "      <td>https://www.exxonmobil.com</td>\n",
       "      <td>XOM</td>\n",
       "      <td>177923</td>\n",
       "    </tr>\n",
       "    <tr>\n",
       "      <th>3</th>\n",
       "      <td>Apple</td>\n",
       "      <td>4</td>\n",
       "      <td>-1.0</td>\n",
       "      <td>260174.0</td>\n",
       "      <td>55256.0</td>\n",
       "      <td>137000</td>\n",
       "      <td>Technology</td>\n",
       "      <td>Cupertino</td>\n",
       "      <td>CA</td>\n",
       "      <td>no</td>\n",
       "      <td>no</td>\n",
       "      <td>no</td>\n",
       "      <td>yes</td>\n",
       "      <td>3.0</td>\n",
       "      <td>Timothy D. Cook</td>\n",
       "      <td>https://www.apple.com</td>\n",
       "      <td>AAPL</td>\n",
       "      <td>2221176</td>\n",
       "    </tr>\n",
       "    <tr>\n",
       "      <th>4</th>\n",
       "      <td>CVS Health</td>\n",
       "      <td>5</td>\n",
       "      <td>3.0</td>\n",
       "      <td>256776.0</td>\n",
       "      <td>6634.0</td>\n",
       "      <td>290000</td>\n",
       "      <td>Health Care</td>\n",
       "      <td>Woonsocket</td>\n",
       "      <td>RI</td>\n",
       "      <td>no</td>\n",
       "      <td>no</td>\n",
       "      <td>yes</td>\n",
       "      <td>yes</td>\n",
       "      <td>8.0</td>\n",
       "      <td>Karen S. Lynch</td>\n",
       "      <td>https://www.cvshealth.com</td>\n",
       "      <td>CVS</td>\n",
       "      <td>98496</td>\n",
       "    </tr>\n",
       "  </tbody>\n",
       "</table>\n",
       "</div>"
      ],
      "text/plain": [
       "       company  rank  rank_change   revenue   profit  num. of employees  \\\n",
       "0      Walmart     1          0.0  523964.0  14881.0            2200000   \n",
       "1       Amazon     2          3.0  280522.0  11588.0             798000   \n",
       "2  Exxon Mobil     3         -1.0  264938.0  14340.0              74900   \n",
       "3        Apple     4         -1.0  260174.0  55256.0             137000   \n",
       "4   CVS Health     5          3.0  256776.0   6634.0             290000   \n",
       "\n",
       "        sector         city state newcomer ceo_founder ceo_woman profitable  \\\n",
       "0    Retailing  Bentonville    AR       no          no        no        yes   \n",
       "1    Retailing      Seattle    WA       no         yes        no        yes   \n",
       "2       Energy       Irving    TX       no          no        no        yes   \n",
       "3   Technology    Cupertino    CA       no          no        no        yes   \n",
       "4  Health Care   Woonsocket    RI       no          no       yes        yes   \n",
       "\n",
       "  prev_rank                  CEO                        Website Ticker  \\\n",
       "0       1.0  C. Douglas McMillon  https://www.stock.walmart.com    WMT   \n",
       "1       5.0     Jeffrey P. Bezos         https://www.amazon.com   AMZN   \n",
       "2       2.0      Darren W. Woods     https://www.exxonmobil.com    XOM   \n",
       "3       3.0      Timothy D. Cook          https://www.apple.com   AAPL   \n",
       "4       8.0       Karen S. Lynch      https://www.cvshealth.com    CVS   \n",
       "\n",
       "  Market Cap  \n",
       "0     411690  \n",
       "1    1637405  \n",
       "2     177923  \n",
       "3    2221176  \n",
       "4      98496  "
      ]
     },
     "execution_count": 3,
     "metadata": {},
     "output_type": "execute_result"
    }
   ],
   "source": [
    "data.head()"
   ]
  },
  {
   "cell_type": "code",
   "execution_count": 4,
   "id": "16cf9b98",
   "metadata": {},
   "outputs": [
    {
     "name": "stdout",
     "output_type": "stream",
     "text": [
      "<class 'pandas.core.frame.DataFrame'>\n",
      "RangeIndex: 1000 entries, 0 to 999\n",
      "Data columns (total 18 columns):\n",
      " #   Column             Non-Null Count  Dtype  \n",
      "---  ------             --------------  -----  \n",
      " 0   company            1000 non-null   object \n",
      " 1   rank               1000 non-null   int64  \n",
      " 2   rank_change        1000 non-null   float64\n",
      " 3   revenue            1000 non-null   float64\n",
      " 4   profit             998 non-null    float64\n",
      " 5   num. of employees  1000 non-null   int64  \n",
      " 6   sector             1000 non-null   object \n",
      " 7   city               1000 non-null   object \n",
      " 8   state              1000 non-null   object \n",
      " 9   newcomer           500 non-null    object \n",
      " 10  ceo_founder        1000 non-null   object \n",
      " 11  ceo_woman          1000 non-null   object \n",
      " 12  profitable         1000 non-null   object \n",
      " 13  prev_rank          1000 non-null   object \n",
      " 14  CEO                992 non-null    object \n",
      " 15  Website            1000 non-null   object \n",
      " 16  Ticker             938 non-null    object \n",
      " 17  Market Cap         960 non-null    object \n",
      "dtypes: float64(3), int64(2), object(13)\n",
      "memory usage: 140.8+ KB\n"
     ]
    }
   ],
   "source": [
    "data.info()"
   ]
  },
  {
   "cell_type": "markdown",
   "id": "a0b299ee",
   "metadata": {},
   "source": [
    "Removing whitespaces and converting to lowercase"
   ]
  },
  {
   "cell_type": "code",
   "execution_count": 5,
   "id": "40c2dbdb",
   "metadata": {},
   "outputs": [],
   "source": [
    "data.columns = data.columns.str.strip()\n",
    "data.columns = data.columns.str.lower()"
   ]
  },
  {
   "cell_type": "markdown",
   "id": "f2929143",
   "metadata": {},
   "source": [
    "Checking for Null values"
   ]
  },
  {
   "cell_type": "code",
   "execution_count": 6,
   "id": "790d3df6",
   "metadata": {
    "scrolled": true
   },
   "outputs": [
    {
     "data": {
      "text/plain": [
       "company                0\n",
       "rank                   0\n",
       "rank_change            0\n",
       "revenue                0\n",
       "profit                 2\n",
       "num. of employees      0\n",
       "sector                 0\n",
       "city                   0\n",
       "state                  0\n",
       "newcomer             500\n",
       "ceo_founder            0\n",
       "ceo_woman              0\n",
       "profitable             0\n",
       "prev_rank              0\n",
       "ceo                    8\n",
       "website                0\n",
       "ticker                62\n",
       "market cap            40\n",
       "dtype: int64"
      ]
     },
     "execution_count": 6,
     "metadata": {},
     "output_type": "execute_result"
    }
   ],
   "source": [
    "data.isna().sum()"
   ]
  },
  {
   "cell_type": "markdown",
   "id": "d88a4c88",
   "metadata": {},
   "source": [
    "Removing profit column for 2 companies (missing values)"
   ]
  },
  {
   "cell_type": "code",
   "execution_count": 7,
   "id": "497f9c45",
   "metadata": {},
   "outputs": [],
   "source": [
    "data.loc[data['profit'].isna()]\n",
    "data = data.drop([667,716])"
   ]
  },
  {
   "cell_type": "markdown",
   "id": "9f651cb6",
   "metadata": {},
   "source": [
    "Replacing Null Columns"
   ]
  },
  {
   "cell_type": "code",
   "execution_count": 8,
   "id": "13a11070",
   "metadata": {},
   "outputs": [],
   "source": [
    "data['ceo'].fillna('N/A', inplace = True)\n",
    "data['newcomer'].fillna('N/A', inplace = True)\n",
    "data['ticker'].fillna('N/A', inplace = True)\n",
    "data['market cap'].fillna(0, inplace = True)"
   ]
  },
  {
   "cell_type": "markdown",
   "id": "466d2fd7",
   "metadata": {},
   "source": [
    "Replacing '-' To 0 in market cap"
   ]
  },
  {
   "cell_type": "code",
   "execution_count": 9,
   "id": "eabaf14e",
   "metadata": {},
   "outputs": [],
   "source": [
    "data['market cap'] = data['market cap'].replace(\"-\",0)"
   ]
  },
  {
   "cell_type": "markdown",
   "id": "b63bc623",
   "metadata": {},
   "source": [
    "Converting data type of Market Cap to float"
   ]
  },
  {
   "cell_type": "code",
   "execution_count": 10,
   "id": "03043017",
   "metadata": {},
   "outputs": [],
   "source": [
    "data[\"market cap\"] = data['market cap'].astype(float)"
   ]
  },
  {
   "cell_type": "markdown",
   "id": "fcbae439",
   "metadata": {},
   "source": [
    "Removing blanks from the previous rank column"
   ]
  },
  {
   "cell_type": "code",
   "execution_count": 11,
   "id": "6dc22b4c",
   "metadata": {},
   "outputs": [],
   "source": [
    "data['prev_rank'] = data['prev_rank'].replace(r'^\\s*$', np.NaN, regex=True)\n",
    "data['prev_rank'].fillna('N/A', inplace = True)"
   ]
  },
  {
   "cell_type": "code",
   "execution_count": 12,
   "id": "9cf40361",
   "metadata": {},
   "outputs": [
    {
     "data": {
      "text/plain": [
       "newcomer\n",
       "N/A    498\n",
       "no     477\n",
       "yes     23\n",
       "Name: rank, dtype: int64"
      ]
     },
     "execution_count": 12,
     "metadata": {},
     "output_type": "execute_result"
    }
   ],
   "source": [
    "data2 = data.iloc[:500,:]\n",
    "data3 = data.iloc[:1000,:]\n",
    "count1 = data3.groupby('newcomer').count().iloc[:,1]\n",
    "count1"
   ]
  },
  {
   "cell_type": "markdown",
   "id": "6aa66e36",
   "metadata": {},
   "source": [
    "## EDA (Exploratory Data Analysis)\n",
    "\n",
    "Piecharts"
   ]
  },
  {
   "cell_type": "code",
   "execution_count": 15,
   "id": "506bf161",
   "metadata": {
    "scrolled": false
   },
   "outputs": [
    {
     "data": {
      "image/png": "[encoded data removed]",
      "text/plain": [
       "<Figure size 720x720 with 4 Axes>"
      ]
     },
     "metadata": {},
     "output_type": "display_data"
    }
   ],
   "source": [
    "fig = plt.figure(figsize = (10,10)) \n",
    "label = ['no', 'yes']\n",
    "\n",
    "ax1 = fig.add_subplot(2, 2, 1)\n",
    "ax2 = fig.add_subplot(2, 2, 2)\n",
    "ax3 = fig.add_subplot(2, 2, 3)\n",
    "ax4 = fig.add_subplot(2, 2, 4)\n",
    "\n",
    "myexplode = [0.2, 0]\n",
    "\n",
    "count1 = data3.groupby('newcomer').count().iloc[:,1]\n",
    "count2 = data.groupby('ceo_founder').count().iloc[0:,1]\n",
    "count3 = data.groupby('ceo_woman').count().iloc[0:,1]\n",
    "count4 = data.groupby('profitable').count().iloc[0:,1]\n",
    "\n",
    "ax1.pie(count1, labels = ['N/A','No', 'Yes'], autopct=\"%1.1f%%\", explode = [0,0,0.2], colors = [\"black\", \"gold\",\"gray\"])\n",
    "ax1.set_title(\"Is the company new to Fortune 500*\")\n",
    "\n",
    "ax2.pie(count2, labels = ['no', 'yes'], autopct=\"%1.1f%%\", explode = myexplode, colors = [\"black\", \"gold\"])\n",
    "ax2.set_title(\"Is founder still the CEO?\")\n",
    "\n",
    "ax3.pie(count3, labels = ['no', 'yes'], autopct=\"%1.1f%%\",explode = myexplode, colors = [\"black\", \"gold\"])\n",
    "ax3.set_title(\"Is ceo a woman?\")\n",
    "\n",
    "ax4.pie(count4, labels = ['no', 'yes'], autopct=\"%1.1f%%\",explode = myexplode, colors = [\"red\", \"green\"])\n",
    "ax4.set_title(\"Is company profitable?\")\n",
    "\n",
    "plt.show()"
   ]
  },
  {
   "cell_type": "code",
   "execution_count": 16,
   "id": "f74c3e70",
   "metadata": {},
   "outputs": [
    {
     "data": {
      "text/plain": [
       "profitable\n",
       "no     144\n",
       "yes    854\n",
       "Name: rank, dtype: int64"
      ]
     },
     "execution_count": 16,
     "metadata": {},
     "output_type": "execute_result"
    }
   ],
   "source": [
    "count4 = data.groupby('profitable').count().iloc[0:,1]"
   ]
  },
  {
   "cell_type": "code",
   "execution_count": 13,
   "id": "a1041fe5",
   "metadata": {},
   "outputs": [
    {
     "data": {
      "text/plain": [
       "newcomer\n",
       "N/A    498\n",
       "no     477\n",
       "yes     23\n",
       "Name: rank, dtype: int64"
      ]
     },
     "execution_count": 13,
     "metadata": {},
     "output_type": "execute_result"
    }
   ],
   "source": [
    "count1"
   ]
  },
  {
   "cell_type": "markdown",
   "id": "b7883b22",
   "metadata": {},
   "source": [
    "## Descriptive Summary, Boxplots, and Histograms"
   ]
  },
  {
   "cell_type": "code",
   "execution_count": 79,
   "id": "89ce655e",
   "metadata": {
    "scrolled": false
   },
   "outputs": [
    {
     "data": {
      "text/html": [
       "<div>\n",
       "<style scoped>\n",
       "    .dataframe tbody tr th:only-of-type {\n",
       "        vertical-align: middle;\n",
       "    }\n",
       "\n",
       "    .dataframe tbody tr th {\n",
       "        vertical-align: top;\n",
       "    }\n",
       "\n",
       "    .dataframe thead th {\n",
       "        text-align: right;\n",
       "    }\n",
       "</style>\n",
       "<table border=\"1\" class=\"dataframe\">\n",
       "  <thead>\n",
       "    <tr style=\"text-align: right;\">\n",
       "      <th></th>\n",
       "      <th>revenue</th>\n",
       "      <th>profit</th>\n",
       "      <th>num. of employees</th>\n",
       "      <th>market cap</th>\n",
       "    </tr>\n",
       "  </thead>\n",
       "  <tbody>\n",
       "    <tr>\n",
       "      <th>count</th>\n",
       "      <td>998.00</td>\n",
       "      <td>998.00</td>\n",
       "      <td>998.00</td>\n",
       "      <td>998.00</td>\n",
       "    </tr>\n",
       "    <tr>\n",
       "      <th>mean</th>\n",
       "      <td>15927.14</td>\n",
       "      <td>1344.70</td>\n",
       "      <td>34669.92</td>\n",
       "      <td>32869.20</td>\n",
       "    </tr>\n",
       "    <tr>\n",
       "      <th>std</th>\n",
       "      <td>34793.40</td>\n",
       "      <td>4515.84</td>\n",
       "      <td>92108.22</td>\n",
       "      <td>126448.80</td>\n",
       "    </tr>\n",
       "    <tr>\n",
       "      <th>min</th>\n",
       "      <td>1990.30</td>\n",
       "      <td>-8506.00</td>\n",
       "      <td>51.00</td>\n",
       "      <td>0.00</td>\n",
       "    </tr>\n",
       "    <tr>\n",
       "      <th>25%</th>\n",
       "      <td>3163.80</td>\n",
       "      <td>110.65</td>\n",
       "      <td>6419.50</td>\n",
       "      <td>1475.30</td>\n",
       "    </tr>\n",
       "    <tr>\n",
       "      <th>50%</th>\n",
       "      <td>5668.05</td>\n",
       "      <td>380.70</td>\n",
       "      <td>13000.00</td>\n",
       "      <td>6033.70</td>\n",
       "    </tr>\n",
       "    <tr>\n",
       "      <th>75%</th>\n",
       "      <td>12843.92</td>\n",
       "      <td>1061.08</td>\n",
       "      <td>29464.00</td>\n",
       "      <td>20018.60</td>\n",
       "    </tr>\n",
       "    <tr>\n",
       "      <th>max</th>\n",
       "      <td>523964.00</td>\n",
       "      <td>81417.00</td>\n",
       "      <td>2200000.00</td>\n",
       "      <td>2221176.00</td>\n",
       "    </tr>\n",
       "  </tbody>\n",
       "</table>\n",
       "</div>"
      ],
      "text/plain": [
       "         revenue    profit num. of employees  market cap\n",
       "count     998.00    998.00            998.00      998.00\n",
       "mean    15927.14   1344.70          34669.92    32869.20\n",
       "std     34793.40   4515.84          92108.22   126448.80\n",
       "min      1990.30  -8506.00             51.00        0.00\n",
       "25%      3163.80    110.65           6419.50     1475.30\n",
       "50%      5668.05    380.70          13000.00     6033.70\n",
       "75%     12843.92   1061.08          29464.00    20018.60\n",
       "max    523964.00  81417.00        2200000.00  2221176.00"
      ]
     },
     "execution_count": 79,
     "metadata": {},
     "output_type": "execute_result"
    }
   ],
   "source": [
    "#b) Summary \n",
    "data[['revenue', 'profit', 'num. of employees', 'market cap']].describe().apply(lambda s: s.apply('{0:.2f}'.format))"
   ]
  },
  {
   "cell_type": "code",
   "execution_count": 80,
   "id": "207785b6",
   "metadata": {},
   "outputs": [],
   "source": [
    "#Distinction of Fortune 1000 companies based on Market Cap\n",
    "\n",
    "conditions = [\n",
    "    (data['market cap'] > 300) & (data['market cap'] <= 2000),\n",
    "    (data['market cap'] > 2000) & (data['market cap'] <= 10000),\n",
    "    (data['market cap'] > 10000)]\n",
    "\n",
    "values = ['small cap', 'mid cap', 'large cap']\n",
    "\n",
    "data['market cap type'] = np.select(conditions, values)\n",
    "\n",
    "smallcap = data[data['market cap type'] == 'small cap']\n",
    "midcap = data[data['market cap type'] == 'mid cap']\n",
    "largecap = data[data['market cap type'] == 'large cap']"
   ]
  },
  {
   "cell_type": "markdown",
   "id": "3676d889",
   "metadata": {},
   "source": [
    "Boxplots"
   ]
  },
  {
   "cell_type": "code",
   "execution_count": 81,
   "id": "0cb4adb4",
   "metadata": {},
   "outputs": [
    {
     "data": {
      "image/png": "[encoded data removed]",
      "text/plain": [
       "<Figure size 1440x360 with 1 Axes>"
      ]
     },
     "metadata": {
      "needs_background": "light"
     },
     "output_type": "display_data"
    }
   ],
   "source": [
    "# Boxplots (Revenue : (Smallcap))\n",
    "figg = plt.figure(figsize = (20,5))\n",
    "\n",
    "bp1 = figg.add_subplot(221)\n",
    "bp1.boxplot(smallcap['revenue'] ,vert = False, patch_artist = True)\n",
    "bp1.set_title(\"Small cap Fortune 1000 Companies Revenue\")\n",
    "bp1.set_ylabel('Fortune 1000 companies')\n",
    "\n",
    "plt.show()"
   ]
  },
  {
   "cell_type": "code",
   "execution_count": 82,
   "id": "3169bcea",
   "metadata": {},
   "outputs": [
    {
     "data": {
      "image/png": "[encoded data removed]",
      "text/plain": [
       "<Figure size 1440x360 with 1 Axes>"
      ]
     },
     "metadata": {
      "needs_background": "light"
     },
     "output_type": "display_data"
    }
   ],
   "source": [
    "# Boxplots (Revenue : (Midcap))\n",
    "figg = plt.figure(figsize = (20,5))\n",
    "\n",
    "bp1 = figg.add_subplot(221)\n",
    "bp1.boxplot(midcap['revenue'] ,\n",
    "vert = False, patch_artist = True)\n",
    "bp1.set_title\n",
    "(\"Mid cap Fortune 1000 Companies Revenue\")\n",
    "bp1.set_ylabel\n",
    "('Fortune 1000 companies')\n",
    "\n",
    "plt.show()"
   ]
  },
  {
   "cell_type": "code",
   "execution_count": 83,
   "id": "07b82858",
   "metadata": {},
   "outputs": [
    {
     "data": {
      "image/png": "[encoded data removed]",
      "text/plain": [
       "<Figure size 1440x360 with 1 Axes>"
      ]
     },
     "metadata": {
      "needs_background": "light"
     },
     "output_type": "display_data"
    }
   ],
   "source": [
    "#Boxplots (Revenue : (Largecap))\n",
    "figg = plt.figure(figsize = (20,5))\n",
    "\n",
    "bp1 = figg.add_subplot(221)\n",
    "bp1.boxplot(largecap['revenue'] ,vert = False, patch_artist = True)\n",
    "bp1.set_title(\"Large cap Fortune 1000 Companies Revenue\")\n",
    "bp1.set_ylabel('Fortune 1000 companies')\n",
    "\n",
    "plt.show()"
   ]
  },
  {
   "cell_type": "code",
   "execution_count": 84,
   "id": "3378af38",
   "metadata": {},
   "outputs": [
    {
     "data": {
      "image/png": "[encoded data removed]",
      "text/plain": [
       "<Figure size 1440x360 with 1 Axes>"
      ]
     },
     "metadata": {
      "needs_background": "light"
     },
     "output_type": "display_data"
    }
   ],
   "source": [
    "#Boxplots (Profit : (Smallcap))\n",
    "figg = plt.figure(figsize = (20,5))\n",
    "\n",
    "bp1 = figg.add_subplot(221)\n",
    "bp1.boxplot(smallcap['profit'] ,vert = False, patch_artist = True)\n",
    "bp1.set_title(\"Small cap Fortune 1000 Companies Profit\")\n",
    "bp1.set_ylabel('Fortune 1000 companies')\n",
    "\n",
    "plt.show()"
   ]
  },
  {
   "cell_type": "code",
   "execution_count": 85,
   "id": "ecc100b7",
   "metadata": {},
   "outputs": [
    {
     "data": {
      "image/png": "[encoded data removed]",
      "text/plain": [
       "<Figure size 1440x360 with 1 Axes>"
      ]
     },
     "metadata": {
      "needs_background": "light"
     },
     "output_type": "display_data"
    }
   ],
   "source": [
    "#Boxplots (Profit : (Midcap))\n",
    "figg = plt.figure(figsize = (20,5))\n",
    "\n",
    "bp1 = figg.add_subplot(221)\n",
    "bp1.boxplot(midcap['profit'] ,vert = False, patch_artist = True)\n",
    "bp1.set_title(\"Mid cap Fortune 1000 Companies Profit\")\n",
    "bp1.set_ylabel('Fortune 1000 companies')\n",
    "\n",
    "plt.show()"
   ]
  },
  {
   "cell_type": "code",
   "execution_count": 86,
   "id": "25414251",
   "metadata": {},
   "outputs": [
    {
     "data": {
      "image/png": "[encoded data removed]",
      "text/plain": [
       "<Figure size 1440x360 with 1 Axes>"
      ]
     },
     "metadata": {
      "needs_background": "light"
     },
     "output_type": "display_data"
    }
   ],
   "source": [
    "#Boxplots (Profit : (Largecap))\n",
    "figg = plt.figure(figsize = (20,5))\n",
    "\n",
    "bp1 = figg.add_subplot(221)\n",
    "bp1.boxplot(largecap['profit'] ,vert = False, patch_artist = True)\n",
    "bp1.set_title(\"Large cap Fortune 1000 Companies Profit\")\n",
    "bp1.set_ylabel('Fortune 1000 companies')\n",
    "\n",
    "plt.show()"
   ]
  },
  {
   "cell_type": "markdown",
   "id": "1c4592d5",
   "metadata": {},
   "source": [
    "Histograms"
   ]
  },
  {
   "cell_type": "code",
   "execution_count": 87,
   "id": "0020c40a",
   "metadata": {},
   "outputs": [
    {
     "data": {
      "text/plain": [
       "Text(0.5, 1.0, 'Revenue Distribution')"
      ]
     },
     "execution_count": 87,
     "metadata": {},
     "output_type": "execute_result"
    },
    {
     "data": {
      "image/png": "[encoded data removed]",
      "text/plain": [
       "<Figure size 432x288 with 1 Axes>"
      ]
     },
     "metadata": {
      "needs_background": "light"
     },
     "output_type": "display_data"
    }
   ],
   "source": [
    "# Histograms\n",
    "\n",
    "plt.hist(data['revenue'], bins = 30, edgecolor='black', linewidth=1.2)\n",
    "plt.title(\"Revenue Distribution\")"
   ]
  },
  {
   "cell_type": "code",
   "execution_count": 88,
   "id": "9a6dd97b",
   "metadata": {},
   "outputs": [
    {
     "data": {
      "text/plain": [
       "(array([  4.,   6., 556., 341.,  49.,  16.,   7.,   7.,   1.,   5.,   0.,\n",
       "          1.,   0.,   0.,   2.,   1.,   0.,   0.,   0.,   0.,   0.,   1.,\n",
       "          0.,   0.,   0.,   0.,   0.,   0.,   0.,   1.]),\n",
       " array([-8506.        , -5508.56666667, -2511.13333333,   486.3       ,\n",
       "         3483.73333333,  6481.16666667,  9478.6       , 12476.03333333,\n",
       "        15473.46666667, 18470.9       , 21468.33333333, 24465.76666667,\n",
       "        27463.2       , 30460.63333333, 33458.06666667, 36455.5       ,\n",
       "        39452.93333333, 42450.36666667, 45447.8       , 48445.23333333,\n",
       "        51442.66666667, 54440.1       , 57437.53333333, 60434.96666667,\n",
       "        63432.4       , 66429.83333333, 69427.26666667, 72424.7       ,\n",
       "        75422.13333333, 78419.56666667, 81417.        ]),\n",
       " <a list of 30 Patch objects>)"
      ]
     },
     "execution_count": 88,
     "metadata": {},
     "output_type": "execute_result"
    },
    {
     "data": {
      "image/png": "[encoded data removed]",
      "text/plain": [
       "<Figure size 432x288 with 1 Axes>"
      ]
     },
     "metadata": {
      "needs_background": "light"
     },
     "output_type": "display_data"
    }
   ],
   "source": [
    "plt.hist(data['profit'], bins = 30, edgecolor='black', linewidth=1.2, color = 'r')"
   ]
  },
  {
   "cell_type": "code",
   "execution_count": 89,
   "id": "de30d9a2",
   "metadata": {},
   "outputs": [
    {
     "data": {
      "text/plain": [
       "Text(0.5, 1.0, 'Distribution of Number of Employees (10^6)')"
      ]
     },
     "execution_count": 89,
     "metadata": {},
     "output_type": "execute_result"
    },
    {
     "data": {
      "image/png": "[encoded data removed]",
      "text/plain": [
       "<Figure size 432x288 with 1 Axes>"
      ]
     },
     "metadata": {
      "needs_background": "light"
     },
     "output_type": "display_data"
    }
   ],
   "source": [
    "plt.hist(data['num. of employees'], bins = 30, edgecolor='black', linewidth=1.2, color = 'g')\n",
    "plt.title(\"Distribution of Number of Employees (10^6)\")"
   ]
  },
  {
   "cell_type": "code",
   "execution_count": 90,
   "id": "a05001d6",
   "metadata": {},
   "outputs": [
    {
     "data": {
      "text/plain": [
       "Text(0.5, 1.0, 'Distribution of Market Cap (10^6)')"
      ]
     },
     "execution_count": 90,
     "metadata": {},
     "output_type": "execute_result"
    },
    {
     "data": {
      "image/png": "[encoded data removed]",
      "text/plain": [
       "<Figure size 432x288 with 1 Axes>"
      ]
     },
     "metadata": {
      "needs_background": "light"
     },
     "output_type": "display_data"
    }
   ],
   "source": [
    "plt.hist(data['market cap'], bins = 30, edgecolor='black', linewidth=1.2, color = 'y')\n",
    "plt.title(\"Distribution of Market Cap (10^6)\")"
   ]
  },
  {
   "cell_type": "markdown",
   "id": "ab8a0a3f",
   "metadata": {},
   "source": [
    "## Geographical Analysis"
   ]
  },
  {
   "cell_type": "code",
   "execution_count": 91,
   "id": "205d6ed6",
   "metadata": {},
   "outputs": [
    {
     "data": {
      "text/html": [
       "<div>\n",
       "<style scoped>\n",
       "    .dataframe tbody tr th:only-of-type {\n",
       "        vertical-align: middle;\n",
       "    }\n",
       "\n",
       "    .dataframe tbody tr th {\n",
       "        vertical-align: top;\n",
       "    }\n",
       "\n",
       "    .dataframe thead th {\n",
       "        text-align: right;\n",
       "    }\n",
       "</style>\n",
       "<table border=\"1\" class=\"dataframe\">\n",
       "  <thead>\n",
       "    <tr style=\"text-align: right;\">\n",
       "      <th></th>\n",
       "      <th>company</th>\n",
       "      <th>revenue</th>\n",
       "      <th>profit</th>\n",
       "      <th>num. of employees</th>\n",
       "    </tr>\n",
       "    <tr>\n",
       "      <th>state</th>\n",
       "      <th></th>\n",
       "      <th></th>\n",
       "      <th></th>\n",
       "      <th></th>\n",
       "    </tr>\n",
       "  </thead>\n",
       "  <tbody>\n",
       "    <tr>\n",
       "      <th>CA</th>\n",
       "      <td>121</td>\n",
       "      <td>15472.215702</td>\n",
       "      <td>2220.651240</td>\n",
       "      <td>27214.272727</td>\n",
       "    </tr>\n",
       "    <tr>\n",
       "      <th>TX</th>\n",
       "      <td>94</td>\n",
       "      <td>19888.263830</td>\n",
       "      <td>841.078723</td>\n",
       "      <td>27779.957447</td>\n",
       "    </tr>\n",
       "    <tr>\n",
       "      <th>NY</th>\n",
       "      <td>89</td>\n",
       "      <td>17923.719101</td>\n",
       "      <td>2405.125843</td>\n",
       "      <td>34917.348315</td>\n",
       "    </tr>\n",
       "    <tr>\n",
       "      <th>IL</th>\n",
       "      <td>65</td>\n",
       "      <td>16297.112308</td>\n",
       "      <td>1202.215385</td>\n",
       "      <td>35204.769231</td>\n",
       "    </tr>\n",
       "    <tr>\n",
       "      <th>OH</th>\n",
       "      <td>52</td>\n",
       "      <td>15986.594231</td>\n",
       "      <td>689.728846</td>\n",
       "      <td>28921.288462</td>\n",
       "    </tr>\n",
       "    <tr>\n",
       "      <th>PA</th>\n",
       "      <td>44</td>\n",
       "      <td>13574.490909</td>\n",
       "      <td>703.722727</td>\n",
       "      <td>30247.090909</td>\n",
       "    </tr>\n",
       "    <tr>\n",
       "      <th>FL</th>\n",
       "      <td>38</td>\n",
       "      <td>9847.455263</td>\n",
       "      <td>532.250000</td>\n",
       "      <td>33698.815789</td>\n",
       "    </tr>\n",
       "    <tr>\n",
       "      <th>VA</th>\n",
       "      <td>35</td>\n",
       "      <td>12771.382857</td>\n",
       "      <td>974.148571</td>\n",
       "      <td>33754.200000</td>\n",
       "    </tr>\n",
       "    <tr>\n",
       "      <th>GA</th>\n",
       "      <td>34</td>\n",
       "      <td>14032.879412</td>\n",
       "      <td>1394.591176</td>\n",
       "      <td>42671.852941</td>\n",
       "    </tr>\n",
       "    <tr>\n",
       "      <th>MA</th>\n",
       "      <td>33</td>\n",
       "      <td>15363.015152</td>\n",
       "      <td>1230.233333</td>\n",
       "      <td>38609.212121</td>\n",
       "    </tr>\n",
       "  </tbody>\n",
       "</table>\n",
       "</div>"
      ],
      "text/plain": [
       "       company       revenue       profit  num. of employees\n",
       "state                                                       \n",
       "CA         121  15472.215702  2220.651240       27214.272727\n",
       "TX          94  19888.263830   841.078723       27779.957447\n",
       "NY          89  17923.719101  2405.125843       34917.348315\n",
       "IL          65  16297.112308  1202.215385       35204.769231\n",
       "OH          52  15986.594231   689.728846       28921.288462\n",
       "PA          44  13574.490909   703.722727       30247.090909\n",
       "FL          38   9847.455263   532.250000       33698.815789\n",
       "VA          35  12771.382857   974.148571       33754.200000\n",
       "GA          34  14032.879412  1394.591176       42671.852941\n",
       "MA          33  15363.015152  1230.233333       38609.212121"
      ]
     },
     "execution_count": 91,
     "metadata": {},
     "output_type": "execute_result"
    }
   ],
   "source": [
    "## EDA (Geographical Analysis)\n",
    "\n",
    "geo = data.groupby(\"state\").agg({'company': 'count', 'revenue': 'mean', 'profit' : 'mean', 'num. of employees' : 'mean'})\n",
    "\n",
    "geo.sort_values(by=['company'], ascending = False).head(10)\n",
    "\n",
    "\n",
    "#geo.sort_values(by=['revenue'], ascending = False).head(10)\n",
    "#geo.sort_values(by=['profit'], ascending = False).head(10)\n",
    "#geo.sort_values(by=['num. of employees'], ascending = False).head(10)"
   ]
  },
  {
   "cell_type": "code",
   "execution_count": 92,
   "id": "2cef381d",
   "metadata": {},
   "outputs": [
    {
     "data": {
      "application/vnd.plotly.v1+json": {
       "config": {
        "plotlyServerURL": "https://plot.ly"
       },
       "data": [
        {
         "coloraxis": "coloraxis",
         "geo": "geo",
         "hovertemplate": "locations=%{location}<br>color=%{z}<extra></extra>",
         "locationmode": "USA-states",
         "locations": [
          "CA",
          "TX",
          "NY",
          "IL",
          "OH",
          "PA",
          "FL",
          "VA",
          "GA",
          "MA",
          "NC",
          "MI",
          "NJ",
          "CT",
          "MN",
          "CO",
          "WI",
          "MO",
          "TN",
          "AZ",
          "IN",
          "WA",
          "MD",
          "OK",
          "NV",
          "AR",
          "NE",
          "KY",
          "RI",
          "DE",
          "IA",
          "OR",
          "LA",
          "KS",
          "ID",
          "DC",
          "UT",
          "AL",
          "SC",
          "HI",
          "PR",
          "NH",
          "ME",
          "VT",
          "MS",
          "ND"
         ],
         "name": "",
         "type": "choropleth",
         "z": [
          121,
          94,
          89,
          65,
          52,
          44,
          38,
          35,
          34,
          33,
          31,
          29,
          27,
          25,
          24,
          23,
          23,
          20,
          20,
          19,
          18,
          16,
          13,
          12,
          9,
          8,
          8,
          7,
          7,
          6,
          6,
          6,
          4,
          4,
          4,
          4,
          3,
          3,
          3,
          3,
          2,
          2,
          1,
          1,
          1,
          1
         ]
        }
       ],
       "layout": {
        "coloraxis": {
         "colorbar": {
          "title": {
           "text": "color"
          }
         },
         "colorscale": [
          [
           0,
           "rgb(232, 245, 171)"
          ],
          [
           0.09090909090909091,
           "rgb(220, 219, 137)"
          ],
          [
           0.18181818181818182,
           "rgb(209, 193, 107)"
          ],
          [
           0.2727272727272727,
           "rgb(199, 168, 83)"
          ],
          [
           0.36363636363636365,
           "rgb(186, 143, 66)"
          ],
          [
           0.45454545454545453,
           "rgb(170, 121, 60)"
          ],
          [
           0.5454545454545454,
           "rgb(151, 103, 58)"
          ],
          [
           0.6363636363636364,
           "rgb(129, 87, 56)"
          ],
          [
           0.7272727272727273,
           "rgb(104, 72, 53)"
          ],
          [
           0.8181818181818182,
           "rgb(80, 59, 46)"
          ],
          [
           0.9090909090909091,
           "rgb(57, 45, 37)"
          ],
          [
           1,
           "rgb(34, 30, 27)"
          ]
         ]
        },
        "geo": {
         "center": {},
         "domain": {
          "x": [
           0,
           1
          ],
          "y": [
           0,
           1
          ]
         },
         "scope": "usa"
        },
        "legend": {
         "tracegroupgap": 0
        },
        "margin": {
         "t": 60
        },
        "template": {
         "data": {
          "bar": [
           {
            "error_x": {
             "color": "#2a3f5f"
            },
            "error_y": {
             "color": "#2a3f5f"
            },
            "marker": {
             "line": {
              "color": "#E5ECF6",
              "width": 0.5
             },
             "pattern": {
              "fillmode": "overlay",
              "size": 10,
              "solidity": 0.2
             }
            },
            "type": "bar"
           }
          ],
          "barpolar": [
           {
            "marker": {
             "line": {
              "color": "#E5ECF6",
              "width": 0.5
             },
             "pattern": {
              "fillmode": "overlay",
              "size": 10,
              "solidity": 0.2
             }
            },
            "type": "barpolar"
           }
          ],
          "carpet": [
           {
            "aaxis": {
             "endlinecolor": "#2a3f5f",
             "gridcolor": "white",
             "linecolor": "white",
             "minorgridcolor": "white",
             "startlinecolor": "#2a3f5f"
            },
            "baxis": {
             "endlinecolor": "#2a3f5f",
             "gridcolor": "white",
             "linecolor": "white",
             "minorgridcolor": "white",
             "startlinecolor": "#2a3f5f"
            },
            "type": "carpet"
           }
          ],
          "choropleth": [
           {
            "colorbar": {
             "outlinewidth": 0,
             "ticks": ""
            },
            "type": "choropleth"
           }
          ],
          "contour": [
           {
            "colorbar": {
             "outlinewidth": 0,
             "ticks": ""
            },
            "colorscale": [
             [
              0,
              "#0d0887"
             ],
             [
              0.1111111111111111,
              "#46039f"
             ],
             [
              0.2222222222222222,
              "#7201a8"
             ],
             [
              0.3333333333333333,
              "#9c179e"
             ],
             [
              0.4444444444444444,
              "#bd3786"
             ],
             [
              0.5555555555555556,
              "#d8576b"
             ],
             [
              0.6666666666666666,
              "#ed7953"
             ],
             [
              0.7777777777777778,
              "#fb9f3a"
             ],
             [
              0.8888888888888888,
              "#fdca26"
             ],
             [
              1,
              "#f0f921"
             ]
            ],
            "type": "contour"
           }
          ],
          "contourcarpet": [
           {
            "colorbar": {
             "outlinewidth": 0,
             "ticks": ""
            },
            "type": "contourcarpet"
           }
          ],
          "heatmap": [
           {
            "colorbar": {
             "outlinewidth": 0,
             "ticks": ""
            },
            "colorscale": [
             [
              0,
              "#0d0887"
             ],
             [
              0.1111111111111111,
              "#46039f"
             ],
             [
              0.2222222222222222,
              "#7201a8"
             ],
             [
              0.3333333333333333,
              "#9c179e"
             ],
             [
              0.4444444444444444,
              "#bd3786"
             ],
             [
              0.5555555555555556,
              "#d8576b"
             ],
             [
              0.6666666666666666,
              "#ed7953"
             ],
             [
              0.7777777777777778,
              "#fb9f3a"
             ],
             [
              0.8888888888888888,
              "#fdca26"
             ],
             [
              1,
              "#f0f921"
             ]
            ],
            "type": "heatmap"
           }
          ],
          "heatmapgl": [
           {
            "colorbar": {
             "outlinewidth": 0,
             "ticks": ""
            },
            "colorscale": [
             [
              0,
              "#0d0887"
             ],
             [
              0.1111111111111111,
              "#46039f"
             ],
             [
              0.2222222222222222,
              "#7201a8"
             ],
             [
              0.3333333333333333,
              "#9c179e"
             ],
             [
              0.4444444444444444,
              "#bd3786"
             ],
             [
              0.5555555555555556,
              "#d8576b"
             ],
             [
              0.6666666666666666,
              "#ed7953"
             ],
             [
              0.7777777777777778,
              "#fb9f3a"
             ],
             [
              0.8888888888888888,
              "#fdca26"
             ],
             [
              1,
              "#f0f921"
             ]
            ],
            "type": "heatmapgl"
           }
          ],
          "histogram": [
           {
            "marker": {
             "pattern": {
              "fillmode": "overlay",
              "size": 10,
              "solidity": 0.2
             }
            },
            "type": "histogram"
           }
          ],
          "histogram2d": [
           {
            "colorbar": {
             "outlinewidth": 0,
             "ticks": ""
            },
            "colorscale": [
             [
              0,
              "#0d0887"
             ],
             [
              0.1111111111111111,
              "#46039f"
             ],
             [
              0.2222222222222222,
              "#7201a8"
             ],
             [
              0.3333333333333333,
              "#9c179e"
             ],
             [
              0.4444444444444444,
              "#bd3786"
             ],
             [
              0.5555555555555556,
              "#d8576b"
             ],
             [
              0.6666666666666666,
              "#ed7953"
             ],
             [
              0.7777777777777778,
              "#fb9f3a"
             ],
             [
              0.8888888888888888,
              "#fdca26"
             ],
             [
              1,
              "#f0f921"
             ]
            ],
            "type": "histogram2d"
           }
          ],
          "histogram2dcontour": [
           {
            "colorbar": {
             "outlinewidth": 0,
             "ticks": ""
            },
            "colorscale": [
             [
              0,
              "#0d0887"
             ],
             [
              0.1111111111111111,
              "#46039f"
             ],
             [
              0.2222222222222222,
              "#7201a8"
             ],
             [
              0.3333333333333333,
              "#9c179e"
             ],
             [
              0.4444444444444444,
              "#bd3786"
             ],
             [
              0.5555555555555556,
              "#d8576b"
             ],
             [
              0.6666666666666666,
              "#ed7953"
             ],
             [
              0.7777777777777778,
              "#fb9f3a"
             ],
             [
              0.8888888888888888,
              "#fdca26"
             ],
             [
              1,
              "#f0f921"
             ]
            ],
            "type": "histogram2dcontour"
           }
          ],
          "mesh3d": [
           {
            "colorbar": {
             "outlinewidth": 0,
             "ticks": ""
            },
            "type": "mesh3d"
           }
          ],
          "parcoords": [
           {
            "line": {
             "colorbar": {
              "outlinewidth": 0,
              "ticks": ""
             }
            },
            "type": "parcoords"
           }
          ],
          "pie": [
           {
            "automargin": true,
            "type": "pie"
           }
          ],
          "scatter": [
           {
            "marker": {
             "colorbar": {
              "outlinewidth": 0,
              "ticks": ""
             }
            },
            "type": "scatter"
           }
          ],
          "scatter3d": [
           {
            "line": {
             "colorbar": {
              "outlinewidth": 0,
              "ticks": ""
             }
            },
            "marker": {
             "colorbar": {
              "outlinewidth": 0,
              "ticks": ""
             }
            },
            "type": "scatter3d"
           }
          ],
          "scattercarpet": [
           {
            "marker": {
             "colorbar": {
              "outlinewidth": 0,
              "ticks": ""
             }
            },
            "type": "scattercarpet"
           }
          ],
          "scattergeo": [
           {
            "marker": {
             "colorbar": {
              "outlinewidth": 0,
              "ticks": ""
             }
            },
            "type": "scattergeo"
           }
          ],
          "scattergl": [
           {
            "marker": {
             "colorbar": {
              "outlinewidth": 0,
              "ticks": ""
             }
            },
            "type": "scattergl"
           }
          ],
          "scattermapbox": [
           {
            "marker": {
             "colorbar": {
              "outlinewidth": 0,
              "ticks": ""
             }
            },
            "type": "scattermapbox"
           }
          ],
          "scatterpolar": [
           {
            "marker": {
             "colorbar": {
              "outlinewidth": 0,
              "ticks": ""
             }
            },
            "type": "scatterpolar"
           }
          ],
          "scatterpolargl": [
           {
            "marker": {
             "colorbar": {
              "outlinewidth": 0,
              "ticks": ""
             }
            },
            "type": "scatterpolargl"
           }
          ],
          "scatterternary": [
           {
            "marker": {
             "colorbar": {
              "outlinewidth": 0,
              "ticks": ""
             }
            },
            "type": "scatterternary"
           }
          ],
          "surface": [
           {
            "colorbar": {
             "outlinewidth": 0,
             "ticks": ""
            },
            "colorscale": [
             [
              0,
              "#0d0887"
             ],
             [
              0.1111111111111111,
              "#46039f"
             ],
             [
              0.2222222222222222,
              "#7201a8"
             ],
             [
              0.3333333333333333,
              "#9c179e"
             ],
             [
              0.4444444444444444,
              "#bd3786"
             ],
             [
              0.5555555555555556,
              "#d8576b"
             ],
             [
              0.6666666666666666,
              "#ed7953"
             ],
             [
              0.7777777777777778,
              "#fb9f3a"
             ],
             [
              0.8888888888888888,
              "#fdca26"
             ],
             [
              1,
              "#f0f921"
             ]
            ],
            "type": "surface"
           }
          ],
          "table": [
           {
            "cells": {
             "fill": {
              "color": "#EBF0F8"
             },
             "line": {
              "color": "white"
             }
            },
            "header": {
             "fill": {
              "color": "#C8D4E3"
             },
             "line": {
              "color": "white"
             }
            },
            "type": "table"
           }
          ]
         },
         "layout": {
          "annotationdefaults": {
           "arrowcolor": "#2a3f5f",
           "arrowhead": 0,
           "arrowwidth": 1
          },
          "autotypenumbers": "strict",
          "coloraxis": {
           "colorbar": {
            "outlinewidth": 0,
            "ticks": ""
           }
          },
          "colorscale": {
           "diverging": [
            [
             0,
             "#8e0152"
            ],
            [
             0.1,
             "#c51b7d"
            ],
            [
             0.2,
             "#de77ae"
            ],
            [
             0.3,
             "#f1b6da"
            ],
            [
             0.4,
             "#fde0ef"
            ],
            [
             0.5,
             "#f7f7f7"
            ],
            [
             0.6,
             "#e6f5d0"
            ],
            [
             0.7,
             "#b8e186"
            ],
            [
             0.8,
             "#7fbc41"
            ],
            [
             0.9,
             "#4d9221"
            ],
            [
             1,
             "#276419"
            ]
           ],
           "sequential": [
            [
             0,
             "#0d0887"
            ],
            [
             0.1111111111111111,
             "#46039f"
            ],
            [
             0.2222222222222222,
             "#7201a8"
            ],
            [
             0.3333333333333333,
             "#9c179e"
            ],
            [
             0.4444444444444444,
             "#bd3786"
            ],
            [
             0.5555555555555556,
             "#d8576b"
            ],
            [
             0.6666666666666666,
             "#ed7953"
            ],
            [
             0.7777777777777778,
             "#fb9f3a"
            ],
            [
             0.8888888888888888,
             "#fdca26"
            ],
            [
             1,
             "#f0f921"
            ]
           ],
           "sequentialminus": [
            [
             0,
             "#0d0887"
            ],
            [
             0.1111111111111111,
             "#46039f"
            ],
            [
             0.2222222222222222,
             "#7201a8"
            ],
            [
             0.3333333333333333,
             "#9c179e"
            ],
            [
             0.4444444444444444,
             "#bd3786"
            ],
            [
             0.5555555555555556,
             "#d8576b"
            ],
            [
             0.6666666666666666,
             "#ed7953"
            ],
            [
             0.7777777777777778,
             "#fb9f3a"
            ],
            [
             0.8888888888888888,
             "#fdca26"
            ],
            [
             1,
             "#f0f921"
            ]
           ]
          },
          "colorway": [
           "#636efa",
           "#EF553B",
           "#00cc96",
           "#ab63fa",
           "#FFA15A",
           "#19d3f3",
           "#FF6692",
           "#B6E880",
           "#FF97FF",
           "#FECB52"
          ],
          "font": {
           "color": "#2a3f5f"
          },
          "geo": {
           "bgcolor": "white",
           "lakecolor": "white",
           "landcolor": "#E5ECF6",
           "showlakes": true,
           "showland": true,
           "subunitcolor": "white"
          },
          "hoverlabel": {
           "align": "left"
          },
          "hovermode": "closest",
          "mapbox": {
           "style": "light"
          },
          "paper_bgcolor": "white",
          "plot_bgcolor": "#E5ECF6",
          "polar": {
           "angularaxis": {
            "gridcolor": "white",
            "linecolor": "white",
            "ticks": ""
           },
           "bgcolor": "#E5ECF6",
           "radialaxis": {
            "gridcolor": "white",
            "linecolor": "white",
            "ticks": ""
           }
          },
          "scene": {
           "xaxis": {
            "backgroundcolor": "#E5ECF6",
            "gridcolor": "white",
            "gridwidth": 2,
            "linecolor": "white",
            "showbackground": true,
            "ticks": "",
            "zerolinecolor": "white"
           },
           "yaxis": {
            "backgroundcolor": "#E5ECF6",
            "gridcolor": "white",
            "gridwidth": 2,
            "linecolor": "white",
            "showbackground": true,
            "ticks": "",
            "zerolinecolor": "white"
           },
           "zaxis": {
            "backgroundcolor": "#E5ECF6",
            "gridcolor": "white",
            "gridwidth": 2,
            "linecolor": "white",
            "showbackground": true,
            "ticks": "",
            "zerolinecolor": "white"
           }
          },
          "shapedefaults": {
           "line": {
            "color": "#2a3f5f"
           }
          },
          "ternary": {
           "aaxis": {
            "gridcolor": "white",
            "linecolor": "white",
            "ticks": ""
           },
           "baxis": {
            "gridcolor": "white",
            "linecolor": "white",
            "ticks": ""
           },
           "bgcolor": "#E5ECF6",
           "caxis": {
            "gridcolor": "white",
            "linecolor": "white",
            "ticks": ""
           }
          },
          "title": {
           "x": 0.05
          },
          "xaxis": {
           "automargin": true,
           "gridcolor": "white",
           "linecolor": "white",
           "ticks": "",
           "title": {
            "standoff": 15
           },
           "zerolinecolor": "white",
           "zerolinewidth": 2
          },
          "yaxis": {
           "automargin": true,
           "gridcolor": "white",
           "linecolor": "white",
           "ticks": "",
           "title": {
            "standoff": 15
           },
           "zerolinecolor": "white",
           "zerolinewidth": 2
          }
         }
        }
       }
      },
      "text/html": [
       "<div>                            <div id=\"d5f72f4b-e0d8-4625-bd79-96e037a68557\" class=\"plotly-graph-div\" style=\"height:525px; width:100%;\"></div>            <script type=\"text/javascript\">                require([\"plotly\"], function(Plotly) {                    window.PLOTLYENV=window.PLOTLYENV || {};                                    if (document.getElementById(\"d5f72f4b-e0d8-4625-bd79-96e037a68557\")) {                    Plotly.newPlot(                        \"d5f72f4b-e0d8-4625-bd79-96e037a68557\",                        [{\"coloraxis\":\"coloraxis\",\"geo\":\"geo\",\"hovertemplate\":\"locations=%{location}<br>color=%{z}<extra></extra>\",\"locationmode\":\"USA-states\",\"locations\":[\"CA\",\"TX\",\"NY\",\"IL\",\"OH\",\"PA\",\"FL\",\"VA\",\"GA\",\"MA\",\"NC\",\"MI\",\"NJ\",\"CT\",\"MN\",\"CO\",\"WI\",\"MO\",\"TN\",\"AZ\",\"IN\",\"WA\",\"MD\",\"OK\",\"NV\",\"AR\",\"NE\",\"KY\",\"RI\",\"DE\",\"IA\",\"OR\",\"LA\",\"KS\",\"ID\",\"DC\",\"UT\",\"AL\",\"SC\",\"HI\",\"PR\",\"NH\",\"ME\",\"VT\",\"MS\",\"ND\"],\"name\":\"\",\"type\":\"choropleth\",\"z\":[121,94,89,65,52,44,38,35,34,33,31,29,27,25,24,23,23,20,20,19,18,16,13,12,9,8,8,7,7,6,6,6,4,4,4,4,3,3,3,3,2,2,1,1,1,1]}],                        {\"coloraxis\":{\"colorbar\":{\"title\":{\"text\":\"color\"}},\"colorscale\":[[0.0,\"rgb(232, 245, 171)\"],[0.09090909090909091,\"rgb(220, 219, 137)\"],[0.18181818181818182,\"rgb(209, 193, 107)\"],[0.2727272727272727,\"rgb(199, 168, 83)\"],[0.36363636363636365,\"rgb(186, 143, 66)\"],[0.45454545454545453,\"rgb(170, 121, 60)\"],[0.5454545454545454,\"rgb(151, 103, 58)\"],[0.6363636363636364,\"rgb(129, 87, 56)\"],[0.7272727272727273,\"rgb(104, 72, 53)\"],[0.8181818181818182,\"rgb(80, 59, 46)\"],[0.9090909090909091,\"rgb(57, 45, 37)\"],[1.0,\"rgb(34, 30, 27)\"]]},\"geo\":{\"center\":{},\"domain\":{\"x\":[0.0,1.0],\"y\":[0.0,1.0]},\"scope\":\"usa\"},\"legend\":{\"tracegroupgap\":0},\"margin\":{\"t\":60},\"template\":{\"data\":{\"bar\":[{\"error_x\":{\"color\":\"#2a3f5f\"},\"error_y\":{\"color\":\"#2a3f5f\"},\"marker\":{\"line\":{\"color\":\"#E5ECF6\",\"width\":0.5},\"pattern\":{\"fillmode\":\"overlay\",\"size\":10,\"solidity\":0.2}},\"type\":\"bar\"}],\"barpolar\":[{\"marker\":{\"line\":{\"color\":\"#E5ECF6\",\"width\":0.5},\"pattern\":{\"fillmode\":\"overlay\",\"size\":10,\"solidity\":0.2}},\"type\":\"barpolar\"}],\"carpet\":[{\"aaxis\":{\"endlinecolor\":\"#2a3f5f\",\"gridcolor\":\"white\",\"linecolor\":\"white\",\"minorgridcolor\":\"white\",\"startlinecolor\":\"#2a3f5f\"},\"baxis\":{\"endlinecolor\":\"#2a3f5f\",\"gridcolor\":\"white\",\"linecolor\":\"white\",\"minorgridcolor\":\"white\",\"startlinecolor\":\"#2a3f5f\"},\"type\":\"carpet\"}],\"choropleth\":[{\"colorbar\":{\"outlinewidth\":0,\"ticks\":\"\"},\"type\":\"choropleth\"}],\"contour\":[{\"colorbar\":{\"outlinewidth\":0,\"ticks\":\"\"},\"colorscale\":[[0.0,\"#0d0887\"],[0.1111111111111111,\"#46039f\"],[0.2222222222222222,\"#7201a8\"],[0.3333333333333333,\"#9c179e\"],[0.4444444444444444,\"#bd3786\"],[0.5555555555555556,\"#d8576b\"],[0.6666666666666666,\"#ed7953\"],[0.7777777777777778,\"#fb9f3a\"],[0.8888888888888888,\"#fdca26\"],[1.0,\"#f0f921\"]],\"type\":\"contour\"}],\"contourcarpet\":[{\"colorbar\":{\"outlinewidth\":0,\"ticks\":\"\"},\"type\":\"contourcarpet\"}],\"heatmap\":[{\"colorbar\":{\"outlinewidth\":0,\"ticks\":\"\"},\"colorscale\":[[0.0,\"#0d0887\"],[0.1111111111111111,\"#46039f\"],[0.2222222222222222,\"#7201a8\"],[0.3333333333333333,\"#9c179e\"],[0.4444444444444444,\"#bd3786\"],[0.5555555555555556,\"#d8576b\"],[0.6666666666666666,\"#ed7953\"],[0.7777777777777778,\"#fb9f3a\"],[0.8888888888888888,\"#fdca26\"],[1.0,\"#f0f921\"]],\"type\":\"heatmap\"}],\"heatmapgl\":[{\"colorbar\":{\"outlinewidth\":0,\"ticks\":\"\"},\"colorscale\":[[0.0,\"#0d0887\"],[0.1111111111111111,\"#46039f\"],[0.2222222222222222,\"#7201a8\"],[0.3333333333333333,\"#9c179e\"],[0.4444444444444444,\"#bd3786\"],[0.5555555555555556,\"#d8576b\"],[0.6666666666666666,\"#ed7953\"],[0.7777777777777778,\"#fb9f3a\"],[0.8888888888888888,\"#fdca26\"],[1.0,\"#f0f921\"]],\"type\":\"heatmapgl\"}],\"histogram\":[{\"marker\":{\"pattern\":{\"fillmode\":\"overlay\",\"size\":10,\"solidity\":0.2}},\"type\":\"histogram\"}],\"histogram2d\":[{\"colorbar\":{\"outlinewidth\":0,\"ticks\":\"\"},\"colorscale\":[[0.0,\"#0d0887\"],[0.1111111111111111,\"#46039f\"],[0.2222222222222222,\"#7201a8\"],[0.3333333333333333,\"#9c179e\"],[0.4444444444444444,\"#bd3786\"],[0.5555555555555556,\"#d8576b\"],[0.6666666666666666,\"#ed7953\"],[0.7777777777777778,\"#fb9f3a\"],[0.8888888888888888,\"#fdca26\"],[1.0,\"#f0f921\"]],\"type\":\"histogram2d\"}],\"histogram2dcontour\":[{\"colorbar\":{\"outlinewidth\":0,\"ticks\":\"\"},\"colorscale\":[[0.0,\"#0d0887\"],[0.1111111111111111,\"#46039f\"],[0.2222222222222222,\"#7201a8\"],[0.3333333333333333,\"#9c179e\"],[0.4444444444444444,\"#bd3786\"],[0.5555555555555556,\"#d8576b\"],[0.6666666666666666,\"#ed7953\"],[0.7777777777777778,\"#fb9f3a\"],[0.8888888888888888,\"#fdca26\"],[1.0,\"#f0f921\"]],\"type\":\"histogram2dcontour\"}],\"mesh3d\":[{\"colorbar\":{\"outlinewidth\":0,\"ticks\":\"\"},\"type\":\"mesh3d\"}],\"parcoords\":[{\"line\":{\"colorbar\":{\"outlinewidth\":0,\"ticks\":\"\"}},\"type\":\"parcoords\"}],\"pie\":[{\"automargin\":true,\"type\":\"pie\"}],\"scatter\":[{\"marker\":{\"colorbar\":{\"outlinewidth\":0,\"ticks\":\"\"}},\"type\":\"scatter\"}],\"scatter3d\":[{\"line\":{\"colorbar\":{\"outlinewidth\":0,\"ticks\":\"\"}},\"marker\":{\"colorbar\":{\"outlinewidth\":0,\"ticks\":\"\"}},\"type\":\"scatter3d\"}],\"scattercarpet\":[{\"marker\":{\"colorbar\":{\"outlinewidth\":0,\"ticks\":\"\"}},\"type\":\"scattercarpet\"}],\"scattergeo\":[{\"marker\":{\"colorbar\":{\"outlinewidth\":0,\"ticks\":\"\"}},\"type\":\"scattergeo\"}],\"scattergl\":[{\"marker\":{\"colorbar\":{\"outlinewidth\":0,\"ticks\":\"\"}},\"type\":\"scattergl\"}],\"scattermapbox\":[{\"marker\":{\"colorbar\":{\"outlinewidth\":0,\"ticks\":\"\"}},\"type\":\"scattermapbox\"}],\"scatterpolar\":[{\"marker\":{\"colorbar\":{\"outlinewidth\":0,\"ticks\":\"\"}},\"type\":\"scatterpolar\"}],\"scatterpolargl\":[{\"marker\":{\"colorbar\":{\"outlinewidth\":0,\"ticks\":\"\"}},\"type\":\"scatterpolargl\"}],\"scatterternary\":[{\"marker\":{\"colorbar\":{\"outlinewidth\":0,\"ticks\":\"\"}},\"type\":\"scatterternary\"}],\"surface\":[{\"colorbar\":{\"outlinewidth\":0,\"ticks\":\"\"},\"colorscale\":[[0.0,\"#0d0887\"],[0.1111111111111111,\"#46039f\"],[0.2222222222222222,\"#7201a8\"],[0.3333333333333333,\"#9c179e\"],[0.4444444444444444,\"#bd3786\"],[0.5555555555555556,\"#d8576b\"],[0.6666666666666666,\"#ed7953\"],[0.7777777777777778,\"#fb9f3a\"],[0.8888888888888888,\"#fdca26\"],[1.0,\"#f0f921\"]],\"type\":\"surface\"}],\"table\":[{\"cells\":{\"fill\":{\"color\":\"#EBF0F8\"},\"line\":{\"color\":\"white\"}},\"header\":{\"fill\":{\"color\":\"#C8D4E3\"},\"line\":{\"color\":\"white\"}},\"type\":\"table\"}]},\"layout\":{\"annotationdefaults\":{\"arrowcolor\":\"#2a3f5f\",\"arrowhead\":0,\"arrowwidth\":1},\"autotypenumbers\":\"strict\",\"coloraxis\":{\"colorbar\":{\"outlinewidth\":0,\"ticks\":\"\"}},\"colorscale\":{\"diverging\":[[0,\"#8e0152\"],[0.1,\"#c51b7d\"],[0.2,\"#de77ae\"],[0.3,\"#f1b6da\"],[0.4,\"#fde0ef\"],[0.5,\"#f7f7f7\"],[0.6,\"#e6f5d0\"],[0.7,\"#b8e186\"],[0.8,\"#7fbc41\"],[0.9,\"#4d9221\"],[1,\"#276419\"]],\"sequential\":[[0.0,\"#0d0887\"],[0.1111111111111111,\"#46039f\"],[0.2222222222222222,\"#7201a8\"],[0.3333333333333333,\"#9c179e\"],[0.4444444444444444,\"#bd3786\"],[0.5555555555555556,\"#d8576b\"],[0.6666666666666666,\"#ed7953\"],[0.7777777777777778,\"#fb9f3a\"],[0.8888888888888888,\"#fdca26\"],[1.0,\"#f0f921\"]],\"sequentialminus\":[[0.0,\"#0d0887\"],[0.1111111111111111,\"#46039f\"],[0.2222222222222222,\"#7201a8\"],[0.3333333333333333,\"#9c179e\"],[0.4444444444444444,\"#bd3786\"],[0.5555555555555556,\"#d8576b\"],[0.6666666666666666,\"#ed7953\"],[0.7777777777777778,\"#fb9f3a\"],[0.8888888888888888,\"#fdca26\"],[1.0,\"#f0f921\"]]},\"colorway\":[\"#636efa\",\"#EF553B\",\"#00cc96\",\"#ab63fa\",\"#FFA15A\",\"#19d3f3\",\"#FF6692\",\"#B6E880\",\"#FF97FF\",\"#FECB52\"],\"font\":{\"color\":\"#2a3f5f\"},\"geo\":{\"bgcolor\":\"white\",\"lakecolor\":\"white\",\"landcolor\":\"#E5ECF6\",\"showlakes\":true,\"showland\":true,\"subunitcolor\":\"white\"},\"hoverlabel\":{\"align\":\"left\"},\"hovermode\":\"closest\",\"mapbox\":{\"style\":\"light\"},\"paper_bgcolor\":\"white\",\"plot_bgcolor\":\"#E5ECF6\",\"polar\":{\"angularaxis\":{\"gridcolor\":\"white\",\"linecolor\":\"white\",\"ticks\":\"\"},\"bgcolor\":\"#E5ECF6\",\"radialaxis\":{\"gridcolor\":\"white\",\"linecolor\":\"white\",\"ticks\":\"\"}},\"scene\":{\"xaxis\":{\"backgroundcolor\":\"#E5ECF6\",\"gridcolor\":\"white\",\"gridwidth\":2,\"linecolor\":\"white\",\"showbackground\":true,\"ticks\":\"\",\"zerolinecolor\":\"white\"},\"yaxis\":{\"backgroundcolor\":\"#E5ECF6\",\"gridcolor\":\"white\",\"gridwidth\":2,\"linecolor\":\"white\",\"showbackground\":true,\"ticks\":\"\",\"zerolinecolor\":\"white\"},\"zaxis\":{\"backgroundcolor\":\"#E5ECF6\",\"gridcolor\":\"white\",\"gridwidth\":2,\"linecolor\":\"white\",\"showbackground\":true,\"ticks\":\"\",\"zerolinecolor\":\"white\"}},\"shapedefaults\":{\"line\":{\"color\":\"#2a3f5f\"}},\"ternary\":{\"aaxis\":{\"gridcolor\":\"white\",\"linecolor\":\"white\",\"ticks\":\"\"},\"baxis\":{\"gridcolor\":\"white\",\"linecolor\":\"white\",\"ticks\":\"\"},\"bgcolor\":\"#E5ECF6\",\"caxis\":{\"gridcolor\":\"white\",\"linecolor\":\"white\",\"ticks\":\"\"}},\"title\":{\"x\":0.05},\"xaxis\":{\"automargin\":true,\"gridcolor\":\"white\",\"linecolor\":\"white\",\"ticks\":\"\",\"title\":{\"standoff\":15},\"zerolinecolor\":\"white\",\"zerolinewidth\":2},\"yaxis\":{\"automargin\":true,\"gridcolor\":\"white\",\"linecolor\":\"white\",\"ticks\":\"\",\"title\":{\"standoff\":15},\"zerolinecolor\":\"white\",\"zerolinewidth\":2}}}},                        {\"responsive\": true}                    ).then(function(){\n",
       "                            \n",
       "var gd = document.getElementById('d5f72f4b-e0d8-4625-bd79-96e037a68557');\n",
       "var x = new MutationObserver(function (mutations, observer) {{\n",
       "        var display = window.getComputedStyle(gd).display;\n",
       "        if (!display || display === 'none') {{\n",
       "            console.log([gd, 'removed!']);\n",
       "            Plotly.purge(gd);\n",
       "            observer.disconnect();\n",
       "        }}\n",
       "}});\n",
       "\n",
       "// Listen for the removal of the full notebook cells\n",
       "var notebookContainer = gd.closest('#notebook-container');\n",
       "if (notebookContainer) {{\n",
       "    x.observe(notebookContainer, {childList: true});\n",
       "}}\n",
       "\n",
       "// Listen for the clearing of the current output cell\n",
       "var outputEl = gd.closest('.output');\n",
       "if (outputEl) {{\n",
       "    x.observe(outputEl, {childList: true});\n",
       "}}\n",
       "\n",
       "                        })                };                });            </script>        </div>"
      ]
     },
     "metadata": {},
     "output_type": "display_data"
    }
   ],
   "source": [
    "#Chloropleth\n",
    "\n",
    "states=pd.DataFrame(data.groupby('state')['state'].count().sort_values(ascending=False))\n",
    "states=states.rename(columns={'state': 'num'})\n",
    "fig = px.choropleth(locations=states.index, locationmode=\"USA-states\", color=states['num'], \n",
    "                    scope=\"usa\",color_continuous_scale=px.colors.sequential.turbid)\n",
    "fig.show()"
   ]
  },
  {
   "cell_type": "code",
   "execution_count": 93,
   "id": "777b15e8",
   "metadata": {
    "scrolled": true
   },
   "outputs": [
    {
     "data": {
      "text/plain": [
       "Text(0.5, 1.0, 'No. of companies')"
      ]
     },
     "execution_count": 93,
     "metadata": {},
     "output_type": "execute_result"
    },
    {
     "data": {
      "image/png": "[encoded data removed]",
      "text/plain": [
       "<Figure size 432x288 with 1 Axes>"
      ]
     },
     "metadata": {
      "needs_background": "light"
     },
     "output_type": "display_data"
    }
   ],
   "source": [
    "# Bar Chart 1 : State + No. of companies\n",
    "\n",
    "plot1 = geo.iloc[:,0].sort_values(ascending = False).head(20).plot.bar()\n",
    "plot1.set_ylabel('No. of Companies')\n",
    "plt.title(\"No. of companies\")"
   ]
  },
  {
   "cell_type": "code",
   "execution_count": 43,
   "id": "f31df8f4",
   "metadata": {},
   "outputs": [
    {
     "ename": "NameError",
     "evalue": "name 'geo' is not defined",
     "output_type": "error",
     "traceback": [
      "\u001b[0;31m---------------------------------------------------------------------------\u001b[0m",
      "\u001b[0;31mNameError\u001b[0m                                 Traceback (most recent call last)",
      "\u001b[0;32m<ipython-input-43-8c43862bc1e8>\u001b[0m in \u001b[0;36m<module>\u001b[0;34m\u001b[0m\n\u001b[1;32m      1\u001b[0m \u001b[0;31m# Bar Chart 2 : State + Avg. Revenue companies\u001b[0m\u001b[0;34m\u001b[0m\u001b[0;34m\u001b[0m\u001b[0;34m\u001b[0m\u001b[0m\n\u001b[1;32m      2\u001b[0m \u001b[0;34m\u001b[0m\u001b[0m\n\u001b[0;32m----> 3\u001b[0;31m \u001b[0mplot1\u001b[0m \u001b[0;34m=\u001b[0m \u001b[0mgeo\u001b[0m\u001b[0;34m.\u001b[0m\u001b[0miloc\u001b[0m\u001b[0;34m[\u001b[0m\u001b[0;34m:\u001b[0m\u001b[0;34m,\u001b[0m\u001b[0;36m1\u001b[0m\u001b[0;34m]\u001b[0m\u001b[0;34m.\u001b[0m\u001b[0msort_values\u001b[0m\u001b[0;34m(\u001b[0m\u001b[0mascending\u001b[0m \u001b[0;34m=\u001b[0m \u001b[0;32mFalse\u001b[0m\u001b[0;34m)\u001b[0m\u001b[0;34m.\u001b[0m\u001b[0mhead\u001b[0m\u001b[0;34m(\u001b[0m\u001b[0;36m20\u001b[0m\u001b[0;34m)\u001b[0m\u001b[0;34m.\u001b[0m\u001b[0mplot\u001b[0m\u001b[0;34m.\u001b[0m\u001b[0mbar\u001b[0m\u001b[0;34m(\u001b[0m\u001b[0mcolor\u001b[0m \u001b[0;34m=\u001b[0m \u001b[0;34m'orange'\u001b[0m\u001b[0;34m)\u001b[0m\u001b[0;34m\u001b[0m\u001b[0;34m\u001b[0m\u001b[0m\n\u001b[0m\u001b[1;32m      4\u001b[0m \u001b[0mplot1\u001b[0m\u001b[0;34m.\u001b[0m\u001b[0mset_ylabel\u001b[0m\u001b[0;34m(\u001b[0m\u001b[0;34m'Average Revenue'\u001b[0m\u001b[0;34m)\u001b[0m\u001b[0;34m\u001b[0m\u001b[0;34m\u001b[0m\u001b[0m\n\u001b[1;32m      5\u001b[0m \u001b[0mplt\u001b[0m\u001b[0;34m.\u001b[0m\u001b[0mtitle\u001b[0m\u001b[0;34m(\u001b[0m\u001b[0;34m\"Average Revenue\"\u001b[0m\u001b[0;34m)\u001b[0m\u001b[0;34m\u001b[0m\u001b[0;34m\u001b[0m\u001b[0m\n",
      "\u001b[0;31mNameError\u001b[0m: name 'geo' is not defined"
     ]
    }
   ],
   "source": [
    "# Bar Chart 2 : State + Avg. Revenue companies\n",
    "\n",
    "plot1 = geo.iloc[:,1].sort_values(ascending = False).head(20).plot.bar(color = 'orange')\n",
    "plot1.set_ylabel('Average Revenue')\n",
    "plt.title(\"Average Revenue\")"
   ]
  },
  {
   "cell_type": "code",
   "execution_count": 95,
   "id": "a711571b",
   "metadata": {},
   "outputs": [
    {
     "data": {
      "text/plain": [
       "Text(0.5, 1.0, 'Average Profit')"
      ]
     },
     "execution_count": 95,
     "metadata": {},
     "output_type": "execute_result"
    },
    {
     "data": {
      "image/png": "[encoded data removed]",
      "text/plain": [
       "<Figure size 432x288 with 1 Axes>"
      ]
     },
     "metadata": {
      "needs_background": "light"
     },
     "output_type": "display_data"
    }
   ],
   "source": [
    "# Bar Chart 3 : State + Avg. Profit companies\n",
    "\n",
    "plot1 = geo.iloc[:,2].sort_values(ascending = False).head(20).plot.bar(color = 'green')\n",
    "plot1.set_ylabel('Average Profit')\n",
    "plt.title(\"Average Profit\")"
   ]
  },
  {
   "cell_type": "code",
   "execution_count": 42,
   "id": "86db8a6e",
   "metadata": {},
   "outputs": [
    {
     "ename": "NameError",
     "evalue": "name 'geo' is not defined",
     "output_type": "error",
     "traceback": [
      "\u001b[0;31m---------------------------------------------------------------------------\u001b[0m",
      "\u001b[0;31mNameError\u001b[0m                                 Traceback (most recent call last)",
      "\u001b[0;32m<ipython-input-42-ded710cbf794>\u001b[0m in \u001b[0;36m<module>\u001b[0;34m\u001b[0m\n\u001b[1;32m      1\u001b[0m \u001b[0;31m# Bar Chart 4 : State + Avg. Num. of employees companies\u001b[0m\u001b[0;34m\u001b[0m\u001b[0;34m\u001b[0m\u001b[0;34m\u001b[0m\u001b[0m\n\u001b[1;32m      2\u001b[0m \u001b[0;34m\u001b[0m\u001b[0m\n\u001b[0;32m----> 3\u001b[0;31m \u001b[0mplot1\u001b[0m \u001b[0;34m=\u001b[0m \u001b[0mgeo\u001b[0m\u001b[0;34m.\u001b[0m\u001b[0miloc\u001b[0m\u001b[0;34m[\u001b[0m\u001b[0;34m:\u001b[0m\u001b[0;34m,\u001b[0m\u001b[0;36m3\u001b[0m\u001b[0;34m]\u001b[0m\u001b[0;34m.\u001b[0m\u001b[0msort_values\u001b[0m\u001b[0;34m(\u001b[0m\u001b[0mascending\u001b[0m \u001b[0;34m=\u001b[0m \u001b[0;32mFalse\u001b[0m\u001b[0;34m)\u001b[0m\u001b[0;34m.\u001b[0m\u001b[0mhead\u001b[0m\u001b[0;34m(\u001b[0m\u001b[0;36m20\u001b[0m\u001b[0;34m)\u001b[0m\u001b[0;34m.\u001b[0m\u001b[0mplot\u001b[0m\u001b[0;34m.\u001b[0m\u001b[0mbar\u001b[0m\u001b[0;34m(\u001b[0m\u001b[0mcolor\u001b[0m \u001b[0;34m=\u001b[0m \u001b[0;34m'brown'\u001b[0m\u001b[0;34m)\u001b[0m\u001b[0;34m\u001b[0m\u001b[0;34m\u001b[0m\u001b[0m\n\u001b[0m\u001b[1;32m      4\u001b[0m \u001b[0mplot1\u001b[0m\u001b[0;34m.\u001b[0m\u001b[0mset_ylabel\u001b[0m\u001b[0;34m(\u001b[0m\u001b[0;34m'Total Number of Employees'\u001b[0m\u001b[0;34m)\u001b[0m\u001b[0;34m\u001b[0m\u001b[0;34m\u001b[0m\u001b[0m\n\u001b[1;32m      5\u001b[0m \u001b[0mplt\u001b[0m\u001b[0;34m.\u001b[0m\u001b[0mtitle\u001b[0m\u001b[0;34m(\u001b[0m\u001b[0;34m\"Total Number of Employees vs State\"\u001b[0m\u001b[0;34m)\u001b[0m\u001b[0;34m\u001b[0m\u001b[0;34m\u001b[0m\u001b[0m\n",
      "\u001b[0;31mNameError\u001b[0m: name 'geo' is not defined"
     ]
    }
   ],
   "source": [
    "# Bar Chart 4 : State + Avg. Num. of employees companies\n",
    "\n",
    "plot1 = geo.iloc[:,3].sort_values(ascending = False).head(20).plot.bar(color = 'brown')\n",
    "plot1.set_ylabel('Total Number of Employees')\n",
    "plt.title(\"Total Number of Employees vs State\")"
   ]
  },
  {
   "cell_type": "markdown",
   "id": "7dc52d85",
   "metadata": {},
   "source": [
    "## Scatter Plots and Heatmap"
   ]
  },
  {
   "cell_type": "code",
   "execution_count": 97,
   "id": "dcb8af00",
   "metadata": {},
   "outputs": [
    {
     "data": {
      "text/plain": [
       "<matplotlib.axes._subplots.AxesSubplot at 0x1b0cfb58630>"
      ]
     },
     "execution_count": 97,
     "metadata": {},
     "output_type": "execute_result"
    },
    {
     "data": {
      "image/png": "[encoded data removed]",
      "text/plain": [
       "<Figure size 432x288 with 1 Axes>"
      ]
     },
     "metadata": {
      "needs_background": "light"
     },
     "output_type": "display_data"
    }
   ],
   "source": [
    "sns.scatterplot(data=data, x=\"revenue\", y=\"profit\")"
   ]
  },
  {
   "cell_type": "code",
   "execution_count": 39,
   "id": "de92f75c",
   "metadata": {},
   "outputs": [
    {
     "data": {
      "text/plain": [
       "<AxesSubplot:xlabel='revenue', ylabel='profit'>"
      ]
     },
     "execution_count": 39,
     "metadata": {},
     "output_type": "execute_result"
    },
    {
     "data": {
      "image/png": "[encoded data removed]",
      "text/plain": [
       "<Figure size 432x288 with 1 Axes>"
      ]
     },
     "metadata": {
      "needs_background": "light"
     },
     "output_type": "display_data"
    }
   ],
   "source": [
    "sns.kdeplot(data=data, x=\"revenue\", y=\"profit\")"
   ]
  },
  {
   "cell_type": "code",
   "execution_count": null,
   "id": "a675c7c4",
   "metadata": {},
   "outputs": [],
   "source": [
    "data"
   ]
  },
  {
   "cell_type": "code",
   "execution_count": 98,
   "id": "3af69876",
   "metadata": {},
   "outputs": [
    {
     "data": {
      "text/plain": [
       "<matplotlib.axes._subplots.AxesSubplot at 0x1b0cfc64518>"
      ]
     },
     "execution_count": 98,
     "metadata": {},
     "output_type": "execute_result"
    },
    {
     "data": {
      "image/png": "[encoded data removed]",
      "text/plain": [
       "<Figure size 432x288 with 1 Axes>"
      ]
     },
     "metadata": {
      "needs_background": "light"
     },
     "output_type": "display_data"
    }
   ],
   "source": [
    "data['is profitable']=data['profit']>0\n",
    "sns.scatterplot(data=data, x=\"revenue\", y=\"num. of employees\",hue='is profitable')"
   ]
  },
  {
   "cell_type": "markdown",
   "id": "57c7269f",
   "metadata": {},
   "source": [
    "Heatmap"
   ]
  },
  {
   "cell_type": "code",
   "execution_count": 23,
   "id": "eb7fc7a9",
   "metadata": {},
   "outputs": [
    {
     "data": {
      "text/plain": [
       "<AxesSubplot:>"
      ]
     },
     "execution_count": 23,
     "metadata": {},
     "output_type": "execute_result"
    },
    {
     "data": {
      "image/png": "[encoded data removed]",
      "text/plain": [
       "<Figure size 432x288 with 2 Axes>"
      ]
     },
     "metadata": {
      "needs_background": "light"
     },
     "output_type": "display_data"
    }
   ],
   "source": [
    "sns.heatmap(data.corr(),cmap = \"YlGnBu\", annot=True)"
   ]
  },
  {
   "cell_type": "markdown",
   "id": "1028cf32",
   "metadata": {},
   "source": [
    "## Newcomer Analysis"
   ]
  },
  {
   "cell_type": "code",
   "execution_count": 100,
   "id": "6fb45eb7",
   "metadata": {},
   "outputs": [
    {
     "data": {
      "text/plain": [
       "Text(0.5, 1.0, 'Average Revenue by Newcomer')"
      ]
     },
     "execution_count": 100,
     "metadata": {},
     "output_type": "execute_result"
    },
    {
     "data": {
      "image/png": "[encoded data removed]",
      "text/plain": [
       "<Figure size 432x288 with 1 Axes>"
      ]
     },
     "metadata": {
      "needs_background": "light"
     },
     "output_type": "display_data"
    }
   ],
   "source": [
    "data10 = data.groupby(\"newcomer\").agg({'revenue': 'mean', 'profit' : 'mean'})\n",
    "plot1 = data10.iloc[:,0].plot.bar(color = 'g')\n",
    "plot1.set_ylabel('Average Revenue')\n",
    "plt.title(\"Average Revenue by Newcomer\")"
   ]
  },
  {
   "cell_type": "code",
   "execution_count": 101,
   "id": "3980d9e6",
   "metadata": {},
   "outputs": [
    {
     "data": {
      "text/plain": [
       "Text(0.5, 1.0, 'Average Profit by Newcomer')"
      ]
     },
     "execution_count": 101,
     "metadata": {},
     "output_type": "execute_result"
    },
    {
     "data": {
      "image/png": "[encoded data removed]",
      "text/plain": [
       "<Figure size 432x288 with 1 Axes>"
      ]
     },
     "metadata": {
      "needs_background": "light"
     },
     "output_type": "display_data"
    }
   ],
   "source": [
    "plot2 = data10.iloc[:,1].plot.bar(color = 'r')\n",
    "plot2.set_ylabel('Average Profit')\n",
    "plt.title(\"Average Profit by Newcomer\")"
   ]
  },
  {
   "cell_type": "markdown",
   "id": "bba53c7c",
   "metadata": {},
   "source": [
    "## Sector Wise Analysis"
   ]
  },
  {
   "cell_type": "code",
   "execution_count": 102,
   "id": "f0a31e13",
   "metadata": {},
   "outputs": [
    {
     "data": {
      "image/png": "[encoded data removed]",
      "text/plain": [
       "<Figure size 1440x576 with 2 Axes>"
      ]
     },
     "metadata": {
      "needs_background": "light"
     },
     "output_type": "display_data"
    }
   ],
   "source": [
    "sector_data = data[[\"revenue\",\"company\",\"sector\",]]\n",
    "sector_data = sector_data.groupby(['sector']).agg({'company':'count','revenue':'sum'})\n",
    "sector_data['percent'] = (sector_data['revenue'] / sector_data['revenue'].sum()) * 100\n",
    "sector_data = sector_data.sort_values(by=['company'],ascending = False)\n",
    "\n",
    "fig = plt.figure() # Create matplotlib figure\n",
    "\n",
    "ax = fig.add_subplot(111) # Create matplotlib axes\n",
    "ax2 = ax.twinx() # Create another axes that shares the same x-axis as ax.\n",
    "\n",
    "width = .3\n",
    "\n",
    "sector_data.percent.plot(kind='bar', color='black', ax=ax, width=width, position=1,figsize=(20, 8))\n",
    "sector_data.company.plot(kind='bar', color='gold', ax=ax2, width=width, position=0,figsize=(20, 8))\n",
    "\n",
    "ax.set_ylabel('Revenue Percentage')\n",
    "ax2.set_ylabel('Number of Companies')\n",
    "ax.set_xlabel('Sector')\n",
    "\n",
    "plt.show()"
   ]
  },
  {
   "cell_type": "code",
   "execution_count": 40,
   "id": "ec0f5d4b",
   "metadata": {},
   "outputs": [
    {
     "data": {
      "text/plain": [
       "Text(0.5, 1.0, 'Sector wise Average Revenue Share')"
      ]
     },
     "execution_count": 40,
     "metadata": {},
     "output_type": "execute_result"
    },
    {
     "data": {
      "image/png": "[encoded data removed]",
      "text/plain": [
       "<Figure size 1440x576 with 1 Axes>"
      ]
     },
     "metadata": {
      "needs_background": "light"
     },
     "output_type": "display_data"
    }
   ],
   "source": [
    "sector_data = data[[\"revenue\",\"sector\",]]\n",
    "sector_data = sector_data.groupby(['sector']).mean()\n",
    "sector_data['percent'] = (sector_data['revenue'] / sector_data['revenue'].sum()) * 100\n",
    "sector_data = sector_data.sort_values(by=['revenue'],ascending = False)\n",
    "plot = sector_data.plot.bar(y='percent', figsize=(20, 8))\n",
    "plot.set_xlabel(\"Sector\")\n",
    "plot.set_ylabel(\"Revenue Percentage\")\n",
    "plot.set_title(\"Sector wise Average Revenue Share\")"
   ]
  },
  {
   "cell_type": "code",
   "execution_count": 41,
   "id": "07ee014b",
   "metadata": {},
   "outputs": [
    {
     "data": {
      "text/html": [
       "<div>\n",
       "<style scoped>\n",
       "    .dataframe tbody tr th:only-of-type {\n",
       "        vertical-align: middle;\n",
       "    }\n",
       "\n",
       "    .dataframe tbody tr th {\n",
       "        vertical-align: top;\n",
       "    }\n",
       "\n",
       "    .dataframe thead th {\n",
       "        text-align: right;\n",
       "    }\n",
       "</style>\n",
       "<table border=\"1\" class=\"dataframe\">\n",
       "  <thead>\n",
       "    <tr style=\"text-align: right;\">\n",
       "      <th></th>\n",
       "      <th>revenue</th>\n",
       "      <th>percent</th>\n",
       "    </tr>\n",
       "    <tr>\n",
       "      <th>sector</th>\n",
       "      <th></th>\n",
       "      <th></th>\n",
       "    </tr>\n",
       "  </thead>\n",
       "  <tbody>\n",
       "    <tr>\n",
       "      <th>Telecommunications</th>\n",
       "      <td>48519.363636</td>\n",
       "      <td>14.076657</td>\n",
       "    </tr>\n",
       "    <tr>\n",
       "      <th>Food &amp; Drug Stores</th>\n",
       "      <td>39783.160000</td>\n",
       "      <td>11.542070</td>\n",
       "    </tr>\n",
       "    <tr>\n",
       "      <th>Health Care</th>\n",
       "      <td>30731.895775</td>\n",
       "      <td>8.916077</td>\n",
       "    </tr>\n",
       "    <tr>\n",
       "      <th>Retailing</th>\n",
       "      <td>25143.777333</td>\n",
       "      <td>7.294826</td>\n",
       "    </tr>\n",
       "    <tr>\n",
       "      <th>Motor Vehicles &amp; Parts</th>\n",
       "      <td>20150.909091</td>\n",
       "      <td>5.846273</td>\n",
       "    </tr>\n",
       "    <tr>\n",
       "      <th>Aerospace &amp; Defense</th>\n",
       "      <td>18472.059091</td>\n",
       "      <td>5.359197</td>\n",
       "    </tr>\n",
       "    <tr>\n",
       "      <th>Financials</th>\n",
       "      <td>16968.721605</td>\n",
       "      <td>4.923042</td>\n",
       "    </tr>\n",
       "    <tr>\n",
       "      <th>Energy</th>\n",
       "      <td>16016.322018</td>\n",
       "      <td>4.646728</td>\n",
       "    </tr>\n",
       "    <tr>\n",
       "      <th>Technology</th>\n",
       "      <td>15387.682569</td>\n",
       "      <td>4.464344</td>\n",
       "    </tr>\n",
       "    <tr>\n",
       "      <th>Food, Beverages &amp; Tobacco</th>\n",
       "      <td>14947.916216</td>\n",
       "      <td>4.336757</td>\n",
       "    </tr>\n",
       "    <tr>\n",
       "      <th>Transportation</th>\n",
       "      <td>13240.150000</td>\n",
       "      <td>3.841292</td>\n",
       "    </tr>\n",
       "    <tr>\n",
       "      <th>Wholesalers</th>\n",
       "      <td>12021.622857</td>\n",
       "      <td>3.487768</td>\n",
       "    </tr>\n",
       "    <tr>\n",
       "      <th>Industrials</th>\n",
       "      <td>10283.244000</td>\n",
       "      <td>2.983421</td>\n",
       "    </tr>\n",
       "    <tr>\n",
       "      <th>Chemicals</th>\n",
       "      <td>9631.392308</td>\n",
       "      <td>2.794303</td>\n",
       "    </tr>\n",
       "    <tr>\n",
       "      <th>Media</th>\n",
       "      <td>9611.491667</td>\n",
       "      <td>2.788529</td>\n",
       "    </tr>\n",
       "    <tr>\n",
       "      <th>Household Products</th>\n",
       "      <td>8770.665385</td>\n",
       "      <td>2.544585</td>\n",
       "    </tr>\n",
       "    <tr>\n",
       "      <th>Hotels, Restaurants &amp; Leisure</th>\n",
       "      <td>7409.481481</td>\n",
       "      <td>2.149672</td>\n",
       "    </tr>\n",
       "    <tr>\n",
       "      <th>Apparel</th>\n",
       "      <td>7303.556250</td>\n",
       "      <td>2.118941</td>\n",
       "    </tr>\n",
       "    <tr>\n",
       "      <th>Engineering &amp; Construction</th>\n",
       "      <td>7192.246667</td>\n",
       "      <td>2.086647</td>\n",
       "    </tr>\n",
       "    <tr>\n",
       "      <th>Materials</th>\n",
       "      <td>6582.815217</td>\n",
       "      <td>1.909836</td>\n",
       "    </tr>\n",
       "    <tr>\n",
       "      <th>Business Services</th>\n",
       "      <td>6511.107692</td>\n",
       "      <td>1.889032</td>\n",
       "    </tr>\n",
       "  </tbody>\n",
       "</table>\n",
       "</div>"
      ],
      "text/plain": [
       "                                    revenue    percent\n",
       "sector                                                \n",
       "Telecommunications             48519.363636  14.076657\n",
       "Food & Drug Stores             39783.160000  11.542070\n",
       "Health Care                    30731.895775   8.916077\n",
       "Retailing                      25143.777333   7.294826\n",
       "Motor Vehicles & Parts         20150.909091   5.846273\n",
       "Aerospace & Defense            18472.059091   5.359197\n",
       "Financials                     16968.721605   4.923042\n",
       "Energy                         16016.322018   4.646728\n",
       "Technology                     15387.682569   4.464344\n",
       "Food, Beverages & Tobacco      14947.916216   4.336757\n",
       "Transportation                 13240.150000   3.841292\n",
       "Wholesalers                    12021.622857   3.487768\n",
       "Industrials                    10283.244000   2.983421\n",
       "Chemicals                       9631.392308   2.794303\n",
       "Media                           9611.491667   2.788529\n",
       "Household Products              8770.665385   2.544585\n",
       "Hotels, Restaurants & Leisure   7409.481481   2.149672\n",
       "Apparel                         7303.556250   2.118941\n",
       "Engineering & Construction      7192.246667   2.086647\n",
       "Materials                       6582.815217   1.909836\n",
       "Business Services               6511.107692   1.889032"
      ]
     },
     "execution_count": 41,
     "metadata": {},
     "output_type": "execute_result"
    }
   ],
   "source": [
    "sector_data"
   ]
  },
  {
   "cell_type": "code",
   "execution_count": 104,
   "id": "7177abf5",
   "metadata": {},
   "outputs": [
    {
     "data": {
      "image/png": "[encoded data removed]",
      "text/plain": [
       "<Figure size 1440x576 with 2 Axes>"
      ]
     },
     "metadata": {
      "needs_background": "light"
     },
     "output_type": "display_data"
    }
   ],
   "source": [
    "sector_data = data[[\"profit\",\"company\",\"sector\",]]\n",
    "sector_data = sector_data.groupby(['sector']).agg({'company':'count','profit':'sum'})\n",
    "#sector_data['percent'] = (sector_data['profit'] / sector_data['profit'].sum()) * 100\n",
    "sector_data = sector_data.sort_values(by=['company'],ascending = False)\n",
    "\n",
    "fig = plt.figure() # Create matplotlib figure\n",
    "\n",
    "ax = fig.add_subplot(111) # Create matplotlib axes\n",
    "ax2 = ax.twinx() # Create another axes that shares the same x-axis as ax.\n",
    "\n",
    "width = .3\n",
    "\n",
    "sector_data.profit.plot(kind='bar', color='black', ax=ax, width=width, position=1,figsize=(20, 8))\n",
    "sector_data.company.plot(kind='bar', color='gold', ax=ax2, width=width, position=0,figsize=(20, 8))\n",
    "\n",
    "ax.set_ylabel('Sector Profit')\n",
    "ax2.set_ylabel('Number of Companies')\n",
    "ax.set_xlabel('Sector')\n",
    "\n",
    "plt.show()"
   ]
  },
  {
   "cell_type": "code",
   "execution_count": null,
   "id": "054b390c",
   "metadata": {},
   "outputs": [],
   "source": []
  },
  {
   "cell_type": "code",
   "execution_count": 108,
   "id": "0d2b3622",
   "metadata": {},
   "outputs": [
    {
     "data": {
      "text/plain": [
       "Text(0.5, 1.0, 'Sector wise Average Profit')"
      ]
     },
     "execution_count": 108,
     "metadata": {},
     "output_type": "execute_result"
    },
    {
     "data": {
      "image/png": "[encoded data removed]",
      "text/plain": [
       "<Figure size 1440x576 with 1 Axes>"
      ]
     },
     "metadata": {
      "needs_background": "light"
     },
     "output_type": "display_data"
    }
   ],
   "source": [
    "sector_data = data[[\"profit\",\"sector\",]]\n",
    "sector_data = sector_data.groupby(['sector']).mean()\n",
    "sector_data = sector_data.sort_values(by=['profit'],ascending = False)\n",
    "plot = sector_data.plot.bar(y='profit', figsize=(20, 8))\n",
    "plot.set_xlabel(\"Sector\")\n",
    "plot.set_ylabel(\"Average Profit\")\n",
    "plot.set_title(\"Sector wise Average Profit\")"
   ]
  },
  {
   "cell_type": "code",
   "execution_count": 109,
   "id": "0b9bdd89",
   "metadata": {},
   "outputs": [
    {
     "data": {
      "image/png": "[encoded data removed]",
      "text/plain": [
       "<Figure size 1440x576 with 2 Axes>"
      ]
     },
     "metadata": {
      "needs_background": "light"
     },
     "output_type": "display_data"
    }
   ],
   "source": [
    "sector_data = data[[\"num. of employees\",\"company\",\"sector\",]]\n",
    "sector_data = sector_data.rename(columns={\"num. of employees\": \"Num_Employees\"})\n",
    "sector_data = sector_data.groupby(['sector']).agg({'company':'count','Num_Employees':'sum'})\n",
    "sector_data = sector_data.sort_values(by=['company'],ascending = False)\n",
    "\n",
    "fig = plt.figure() # Create matplotlib figure\n",
    "\n",
    "ax = fig.add_subplot(111) # Create matplotlib axes\n",
    "ax2 = ax.twinx() # Create another axes that shares the same x-axis as ax.\n",
    "\n",
    "width = .3\n",
    "\n",
    "sector_data.Num_Employees.plot(kind='bar', color='black', ax=ax, width=width, position=1,figsize=(20, 8))\n",
    "sector_data.company.plot(kind='bar', color='gold', ax=ax2, width=width, position=0,figsize=(20, 8))\n",
    "\n",
    "ax.set_ylabel('Sector Profit')\n",
    "ax.set_xlabel('Sector')\n",
    "ax2.set_ylabel('Number of Companies')\n",
    "\n",
    "plt.show()"
   ]
  },
  {
   "cell_type": "code",
   "execution_count": 110,
   "id": "0594b0c8",
   "metadata": {},
   "outputs": [
    {
     "data": {
      "text/plain": [
       "Text(0.5, 1.0, 'Sector wise Average Number of Employees')"
      ]
     },
     "execution_count": 110,
     "metadata": {},
     "output_type": "execute_result"
    },
    {
     "data": {
      "image/png": "[encoded data removed]",
      "text/plain": [
       "<Figure size 1440x576 with 1 Axes>"
      ]
     },
     "metadata": {
      "needs_background": "light"
     },
     "output_type": "display_data"
    }
   ],
   "source": [
    "sector_data = data[[\"num. of employees\",\"sector\",]]\n",
    "\n",
    "sector_data = sector_data.groupby(['sector']).mean()\n",
    "sector_data = sector_data.sort_values(by=['num. of employees'],ascending = False)\n",
    "\n",
    "plot = sector_data.plot.bar(y='num. of employees', figsize=(20, 8))\n",
    "plot.set_xlabel(\"Sector\")\n",
    "plot.set_ylabel(\"Average Number of Employees\")\n",
    "plot.set_title(\"Sector wise Average Number of Employees\")"
   ]
  },
  {
   "cell_type": "markdown",
   "id": "d813a7bc",
   "metadata": {},
   "source": [
    "## Regression"
   ]
  },
  {
   "cell_type": "code",
   "execution_count": 111,
   "id": "2aeec863",
   "metadata": {},
   "outputs": [
    {
     "data": {
      "text/html": [
       "<div>\n",
       "<style scoped>\n",
       "    .dataframe tbody tr th:only-of-type {\n",
       "        vertical-align: middle;\n",
       "    }\n",
       "\n",
       "    .dataframe tbody tr th {\n",
       "        vertical-align: top;\n",
       "    }\n",
       "\n",
       "    .dataframe thead th {\n",
       "        text-align: right;\n",
       "    }\n",
       "</style>\n",
       "<table border=\"1\" class=\"dataframe\">\n",
       "  <thead>\n",
       "    <tr style=\"text-align: right;\">\n",
       "      <th></th>\n",
       "      <th>company</th>\n",
       "      <th>rank</th>\n",
       "      <th>rank_change</th>\n",
       "      <th>revenue</th>\n",
       "      <th>profit</th>\n",
       "      <th>num. of employees</th>\n",
       "      <th>sector</th>\n",
       "      <th>city</th>\n",
       "      <th>state</th>\n",
       "      <th>newcomer</th>\n",
       "      <th>ceo_founder</th>\n",
       "      <th>ceo_woman</th>\n",
       "      <th>profitable</th>\n",
       "      <th>prev_rank</th>\n",
       "      <th>ceo</th>\n",
       "      <th>website</th>\n",
       "      <th>ticker</th>\n",
       "      <th>market cap</th>\n",
       "      <th>market cap type</th>\n",
       "      <th>is profitable</th>\n",
       "    </tr>\n",
       "  </thead>\n",
       "  <tbody>\n",
       "    <tr>\n",
       "      <th>0</th>\n",
       "      <td>Walmart</td>\n",
       "      <td>1</td>\n",
       "      <td>0.0</td>\n",
       "      <td>523964.0</td>\n",
       "      <td>14881.0</td>\n",
       "      <td>2200000</td>\n",
       "      <td>Retailing</td>\n",
       "      <td>Bentonville</td>\n",
       "      <td>AR</td>\n",
       "      <td>no</td>\n",
       "      <td>no</td>\n",
       "      <td>no</td>\n",
       "      <td>yes</td>\n",
       "      <td>1.0</td>\n",
       "      <td>C. Douglas McMillon</td>\n",
       "      <td>https://www.stock.walmart.com</td>\n",
       "      <td>WMT</td>\n",
       "      <td>411690.0</td>\n",
       "      <td>large cap</td>\n",
       "      <td>True</td>\n",
       "    </tr>\n",
       "    <tr>\n",
       "      <th>1</th>\n",
       "      <td>Amazon</td>\n",
       "      <td>2</td>\n",
       "      <td>3.0</td>\n",
       "      <td>280522.0</td>\n",
       "      <td>11588.0</td>\n",
       "      <td>798000</td>\n",
       "      <td>Retailing</td>\n",
       "      <td>Seattle</td>\n",
       "      <td>WA</td>\n",
       "      <td>no</td>\n",
       "      <td>yes</td>\n",
       "      <td>no</td>\n",
       "      <td>yes</td>\n",
       "      <td>5.0</td>\n",
       "      <td>Jeffrey P. Bezos</td>\n",
       "      <td>https://www.amazon.com</td>\n",
       "      <td>AMZN</td>\n",
       "      <td>1637405.0</td>\n",
       "      <td>large cap</td>\n",
       "      <td>True</td>\n",
       "    </tr>\n",
       "    <tr>\n",
       "      <th>2</th>\n",
       "      <td>Exxon Mobil</td>\n",
       "      <td>3</td>\n",
       "      <td>-1.0</td>\n",
       "      <td>264938.0</td>\n",
       "      <td>14340.0</td>\n",
       "      <td>74900</td>\n",
       "      <td>Energy</td>\n",
       "      <td>Irving</td>\n",
       "      <td>TX</td>\n",
       "      <td>no</td>\n",
       "      <td>no</td>\n",
       "      <td>no</td>\n",
       "      <td>yes</td>\n",
       "      <td>2.0</td>\n",
       "      <td>Darren W. Woods</td>\n",
       "      <td>https://www.exxonmobil.com</td>\n",
       "      <td>XOM</td>\n",
       "      <td>177923.0</td>\n",
       "      <td>large cap</td>\n",
       "      <td>True</td>\n",
       "    </tr>\n",
       "    <tr>\n",
       "      <th>3</th>\n",
       "      <td>Apple</td>\n",
       "      <td>4</td>\n",
       "      <td>-1.0</td>\n",
       "      <td>260174.0</td>\n",
       "      <td>55256.0</td>\n",
       "      <td>137000</td>\n",
       "      <td>Technology</td>\n",
       "      <td>Cupertino</td>\n",
       "      <td>CA</td>\n",
       "      <td>no</td>\n",
       "      <td>no</td>\n",
       "      <td>no</td>\n",
       "      <td>yes</td>\n",
       "      <td>3.0</td>\n",
       "      <td>Timothy D. Cook</td>\n",
       "      <td>https://www.apple.com</td>\n",
       "      <td>AAPL</td>\n",
       "      <td>2221176.0</td>\n",
       "      <td>large cap</td>\n",
       "      <td>True</td>\n",
       "    </tr>\n",
       "    <tr>\n",
       "      <th>4</th>\n",
       "      <td>CVS Health</td>\n",
       "      <td>5</td>\n",
       "      <td>3.0</td>\n",
       "      <td>256776.0</td>\n",
       "      <td>6634.0</td>\n",
       "      <td>290000</td>\n",
       "      <td>Health Care</td>\n",
       "      <td>Woonsocket</td>\n",
       "      <td>RI</td>\n",
       "      <td>no</td>\n",
       "      <td>no</td>\n",
       "      <td>yes</td>\n",
       "      <td>yes</td>\n",
       "      <td>8.0</td>\n",
       "      <td>Karen S. Lynch</td>\n",
       "      <td>https://www.cvshealth.com</td>\n",
       "      <td>CVS</td>\n",
       "      <td>98496.0</td>\n",
       "      <td>large cap</td>\n",
       "      <td>True</td>\n",
       "    </tr>\n",
       "  </tbody>\n",
       "</table>\n",
       "</div>"
      ],
      "text/plain": [
       "       company  rank  rank_change   revenue   profit  num. of employees  \\\n",
       "0      Walmart     1          0.0  523964.0  14881.0            2200000   \n",
       "1       Amazon     2          3.0  280522.0  11588.0             798000   \n",
       "2  Exxon Mobil     3         -1.0  264938.0  14340.0              74900   \n",
       "3        Apple     4         -1.0  260174.0  55256.0             137000   \n",
       "4   CVS Health     5          3.0  256776.0   6634.0             290000   \n",
       "\n",
       "        sector         city state newcomer ceo_founder ceo_woman profitable  \\\n",
       "0    Retailing  Bentonville    AR       no          no        no        yes   \n",
       "1    Retailing      Seattle    WA       no         yes        no        yes   \n",
       "2       Energy       Irving    TX       no          no        no        yes   \n",
       "3   Technology    Cupertino    CA       no          no        no        yes   \n",
       "4  Health Care   Woonsocket    RI       no          no       yes        yes   \n",
       "\n",
       "  prev_rank                  ceo                        website ticker  \\\n",
       "0       1.0  C. Douglas McMillon  https://www.stock.walmart.com    WMT   \n",
       "1       5.0     Jeffrey P. Bezos         https://www.amazon.com   AMZN   \n",
       "2       2.0      Darren W. Woods     https://www.exxonmobil.com    XOM   \n",
       "3       3.0      Timothy D. Cook          https://www.apple.com   AAPL   \n",
       "4       8.0       Karen S. Lynch      https://www.cvshealth.com    CVS   \n",
       "\n",
       "   market cap market cap type  is profitable  \n",
       "0    411690.0       large cap           True  \n",
       "1   1637405.0       large cap           True  \n",
       "2    177923.0       large cap           True  \n",
       "3   2221176.0       large cap           True  \n",
       "4     98496.0       large cap           True  "
      ]
     },
     "execution_count": 111,
     "metadata": {},
     "output_type": "execute_result"
    }
   ],
   "source": [
    "df = data.copy()\n",
    "df.head()"
   ]
  },
  {
   "cell_type": "code",
   "execution_count": 112,
   "id": "e8ad3693",
   "metadata": {},
   "outputs": [
    {
     "data": {
      "text/html": [
       "<div>\n",
       "<style scoped>\n",
       "    .dataframe tbody tr th:only-of-type {\n",
       "        vertical-align: middle;\n",
       "    }\n",
       "\n",
       "    .dataframe tbody tr th {\n",
       "        vertical-align: top;\n",
       "    }\n",
       "\n",
       "    .dataframe thead th {\n",
       "        text-align: right;\n",
       "    }\n",
       "</style>\n",
       "<table border=\"1\" class=\"dataframe\">\n",
       "  <thead>\n",
       "    <tr style=\"text-align: right;\">\n",
       "      <th></th>\n",
       "      <th>company</th>\n",
       "      <th>rank</th>\n",
       "      <th>rank_change</th>\n",
       "      <th>revenue</th>\n",
       "      <th>profit</th>\n",
       "      <th>num. of employees</th>\n",
       "      <th>sector</th>\n",
       "      <th>city</th>\n",
       "      <th>state</th>\n",
       "      <th>newcomer</th>\n",
       "      <th>ceo_founder</th>\n",
       "      <th>ceo_woman</th>\n",
       "      <th>profitable</th>\n",
       "      <th>prev_rank</th>\n",
       "      <th>ceo</th>\n",
       "      <th>website</th>\n",
       "      <th>ticker</th>\n",
       "      <th>market cap</th>\n",
       "      <th>market cap type</th>\n",
       "      <th>is profitable</th>\n",
       "    </tr>\n",
       "  </thead>\n",
       "  <tbody>\n",
       "    <tr>\n",
       "      <th>0</th>\n",
       "      <td>Walmart</td>\n",
       "      <td>1</td>\n",
       "      <td>0.0</td>\n",
       "      <td>523964.0</td>\n",
       "      <td>14881.0</td>\n",
       "      <td>2200000</td>\n",
       "      <td>Retailing</td>\n",
       "      <td>Bentonville</td>\n",
       "      <td>AR</td>\n",
       "      <td>no</td>\n",
       "      <td>0</td>\n",
       "      <td>0</td>\n",
       "      <td>1</td>\n",
       "      <td>1.0</td>\n",
       "      <td>C. Douglas McMillon</td>\n",
       "      <td>https://www.stock.walmart.com</td>\n",
       "      <td>WMT</td>\n",
       "      <td>411690.0</td>\n",
       "      <td>large cap</td>\n",
       "      <td>True</td>\n",
       "    </tr>\n",
       "    <tr>\n",
       "      <th>1</th>\n",
       "      <td>Amazon</td>\n",
       "      <td>2</td>\n",
       "      <td>3.0</td>\n",
       "      <td>280522.0</td>\n",
       "      <td>11588.0</td>\n",
       "      <td>798000</td>\n",
       "      <td>Retailing</td>\n",
       "      <td>Seattle</td>\n",
       "      <td>WA</td>\n",
       "      <td>no</td>\n",
       "      <td>1</td>\n",
       "      <td>0</td>\n",
       "      <td>1</td>\n",
       "      <td>5.0</td>\n",
       "      <td>Jeffrey P. Bezos</td>\n",
       "      <td>https://www.amazon.com</td>\n",
       "      <td>AMZN</td>\n",
       "      <td>1637405.0</td>\n",
       "      <td>large cap</td>\n",
       "      <td>True</td>\n",
       "    </tr>\n",
       "    <tr>\n",
       "      <th>2</th>\n",
       "      <td>Exxon Mobil</td>\n",
       "      <td>3</td>\n",
       "      <td>-1.0</td>\n",
       "      <td>264938.0</td>\n",
       "      <td>14340.0</td>\n",
       "      <td>74900</td>\n",
       "      <td>Energy</td>\n",
       "      <td>Irving</td>\n",
       "      <td>TX</td>\n",
       "      <td>no</td>\n",
       "      <td>0</td>\n",
       "      <td>0</td>\n",
       "      <td>1</td>\n",
       "      <td>2.0</td>\n",
       "      <td>Darren W. Woods</td>\n",
       "      <td>https://www.exxonmobil.com</td>\n",
       "      <td>XOM</td>\n",
       "      <td>177923.0</td>\n",
       "      <td>large cap</td>\n",
       "      <td>True</td>\n",
       "    </tr>\n",
       "    <tr>\n",
       "      <th>3</th>\n",
       "      <td>Apple</td>\n",
       "      <td>4</td>\n",
       "      <td>-1.0</td>\n",
       "      <td>260174.0</td>\n",
       "      <td>55256.0</td>\n",
       "      <td>137000</td>\n",
       "      <td>Technology</td>\n",
       "      <td>Cupertino</td>\n",
       "      <td>CA</td>\n",
       "      <td>no</td>\n",
       "      <td>0</td>\n",
       "      <td>0</td>\n",
       "      <td>1</td>\n",
       "      <td>3.0</td>\n",
       "      <td>Timothy D. Cook</td>\n",
       "      <td>https://www.apple.com</td>\n",
       "      <td>AAPL</td>\n",
       "      <td>2221176.0</td>\n",
       "      <td>large cap</td>\n",
       "      <td>True</td>\n",
       "    </tr>\n",
       "    <tr>\n",
       "      <th>4</th>\n",
       "      <td>CVS Health</td>\n",
       "      <td>5</td>\n",
       "      <td>3.0</td>\n",
       "      <td>256776.0</td>\n",
       "      <td>6634.0</td>\n",
       "      <td>290000</td>\n",
       "      <td>Health Care</td>\n",
       "      <td>Woonsocket</td>\n",
       "      <td>RI</td>\n",
       "      <td>no</td>\n",
       "      <td>0</td>\n",
       "      <td>1</td>\n",
       "      <td>1</td>\n",
       "      <td>8.0</td>\n",
       "      <td>Karen S. Lynch</td>\n",
       "      <td>https://www.cvshealth.com</td>\n",
       "      <td>CVS</td>\n",
       "      <td>98496.0</td>\n",
       "      <td>large cap</td>\n",
       "      <td>True</td>\n",
       "    </tr>\n",
       "  </tbody>\n",
       "</table>\n",
       "</div>"
      ],
      "text/plain": [
       "       company  rank  rank_change   revenue   profit  num. of employees  \\\n",
       "0      Walmart     1          0.0  523964.0  14881.0            2200000   \n",
       "1       Amazon     2          3.0  280522.0  11588.0             798000   \n",
       "2  Exxon Mobil     3         -1.0  264938.0  14340.0              74900   \n",
       "3        Apple     4         -1.0  260174.0  55256.0             137000   \n",
       "4   CVS Health     5          3.0  256776.0   6634.0             290000   \n",
       "\n",
       "        sector         city state newcomer  ceo_founder  ceo_woman  \\\n",
       "0    Retailing  Bentonville    AR       no            0          0   \n",
       "1    Retailing      Seattle    WA       no            1          0   \n",
       "2       Energy       Irving    TX       no            0          0   \n",
       "3   Technology    Cupertino    CA       no            0          0   \n",
       "4  Health Care   Woonsocket    RI       no            0          1   \n",
       "\n",
       "   profitable prev_rank                  ceo                        website  \\\n",
       "0           1       1.0  C. Douglas McMillon  https://www.stock.walmart.com   \n",
       "1           1       5.0     Jeffrey P. Bezos         https://www.amazon.com   \n",
       "2           1       2.0      Darren W. Woods     https://www.exxonmobil.com   \n",
       "3           1       3.0      Timothy D. Cook          https://www.apple.com   \n",
       "4           1       8.0       Karen S. Lynch      https://www.cvshealth.com   \n",
       "\n",
       "  ticker  market cap market cap type  is profitable  \n",
       "0    WMT    411690.0       large cap           True  \n",
       "1   AMZN   1637405.0       large cap           True  \n",
       "2    XOM    177923.0       large cap           True  \n",
       "3   AAPL   2221176.0       large cap           True  \n",
       "4    CVS     98496.0       large cap           True  "
      ]
     },
     "execution_count": 112,
     "metadata": {},
     "output_type": "execute_result"
    }
   ],
   "source": [
    "# Encoding 3 categorical columns (CEO_Woman, CEO_Founder, Profitable)\n",
    "\n",
    "from sklearn.preprocessing import LabelEncoder\n",
    "le = LabelEncoder()\n",
    "\n",
    "col = df[['ceo_founder','ceo_woman','profitable']]\n",
    "\n",
    "for i in col:\n",
    "    df[i] = le.fit_transform(df[i])\n",
    "\n",
    "df.head()"
   ]
  },
  {
   "cell_type": "code",
   "execution_count": 113,
   "id": "9c5c13e0",
   "metadata": {},
   "outputs": [],
   "source": [
    "# Removing columns not to be used in regression\n",
    "\n",
    "df = df.drop(['rank', 'rank_change', 'company', 'newcomer', 'prev_rank', 'ceo', 'website', 'ticker','market cap type','sector','city','state','profitable'], axis=1)\n",
    "df.head()\n",
    "\n",
    "X = df.iloc[:,1:]\n",
    "y = df.iloc[:,0]"
   ]
  },
  {
   "cell_type": "code",
   "execution_count": 114,
   "id": "b2b9cf27",
   "metadata": {},
   "outputs": [],
   "source": [
    "# Train-Test split\n",
    "\n",
    "from sklearn.model_selection import train_test_split\n",
    "X_train, X_test, y_train, y_test = train_test_split(X,y, test_size = 0.2)"
   ]
  },
  {
   "cell_type": "code",
   "execution_count": 115,
   "id": "7398a764",
   "metadata": {},
   "outputs": [
    {
     "data": {
      "text/plain": [
       "754      3145.0\n",
       "262     12067.0\n",
       "821      2820.0\n",
       "269     11809.0\n",
       "311     10168.0\n",
       "141     22408.0\n",
       "565      4770.4\n",
       "361      8750.7\n",
       "251     12672.7\n",
       "529      5249.0\n",
       "150     21624.0\n",
       "557      4868.0\n",
       "393      8094.0\n",
       "886      2406.9\n",
       "753      3145.4\n",
       "749      3164.4\n",
       "857      2606.6\n",
       "21     124813.0\n",
       "983      2042.0\n",
       "3      260174.0\n",
       "472      6242.8\n",
       "162     20173.3\n",
       "426      7213.7\n",
       "224     14300.0\n",
       "72      44116.6\n",
       "833      2729.6\n",
       "598      4467.0\n",
       "24     113589.0\n",
       "752      3156.0\n",
       "467      6343.2\n",
       "         ...   \n",
       "772      3055.4\n",
       "153     21335.7\n",
       "230     13989.0\n",
       "723      3351.6\n",
       "117     25599.7\n",
       "919      2299.5\n",
       "274     11548.0\n",
       "255     12574.0\n",
       "111     27754.0\n",
       "489      5870.0\n",
       "669      3680.8\n",
       "345      9165.3\n",
       "329      9709.0\n",
       "370      8526.5\n",
       "458      6547.0\n",
       "673      3662.0\n",
       "951      2175.2\n",
       "539      5140.1\n",
       "655      3868.1\n",
       "675      3627.2\n",
       "741      3230.8\n",
       "916      2311.7\n",
       "259     12301.0\n",
       "725      3337.0\n",
       "68      46840.0\n",
       "355      8906.3\n",
       "284     11171.3\n",
       "104     31900.5\n",
       "601      4438.0\n",
       "77      42951.0\n",
       "Name: revenue, Length: 200, dtype: float64"
      ]
     },
     "execution_count": 115,
     "metadata": {},
     "output_type": "execute_result"
    }
   ],
   "source": [
    "y_test"
   ]
  },
  {
   "cell_type": "code",
   "execution_count": 116,
   "id": "62b65be9",
   "metadata": {},
   "outputs": [
    {
     "name": "stderr",
     "output_type": "stream",
     "text": [
      "C:\\Users\\adith\\Miniconda3\\lib\\site-packages\\sklearn\\preprocessing\\data.py:617: DataConversionWarning:\n",
      "\n",
      "Data with input dtype bool, int32, int64, float64 were all converted to float64 by StandardScaler.\n",
      "\n",
      "C:\\Users\\adith\\Miniconda3\\lib\\site-packages\\sklearn\\base.py:462: DataConversionWarning:\n",
      "\n",
      "Data with input dtype bool, int32, int64, float64 were all converted to float64 by StandardScaler.\n",
      "\n",
      "C:\\Users\\adith\\Miniconda3\\lib\\site-packages\\ipykernel_launcher.py:7: DataConversionWarning:\n",
      "\n",
      "Data with input dtype bool, int32, int64, float64 were all converted to float64 by StandardScaler.\n",
      "\n"
     ]
    }
   ],
   "source": [
    "# Scaling X\n",
    "\n",
    "from sklearn.preprocessing import StandardScaler\n",
    "ss = StandardScaler()\n",
    "\n",
    "X_train = ss.fit_transform(X_train)\n",
    "X_test = ss.transform(X_test)"
   ]
  },
  {
   "cell_type": "code",
   "execution_count": 117,
   "id": "ae450ec4",
   "metadata": {},
   "outputs": [
    {
     "data": {
      "text/plain": [
       "LinearRegression(copy_X=True, fit_intercept=True, n_jobs=None,\n",
       "         normalize=False)"
      ]
     },
     "execution_count": 117,
     "metadata": {},
     "output_type": "execute_result"
    }
   ],
   "source": [
    "# Multiple Linear Regression\n",
    "\n",
    "from sklearn.linear_model import LinearRegression\n",
    "lr = LinearRegression()\n",
    "\n",
    "lr.fit(X_train, y_train)"
   ]
  },
  {
   "cell_type": "code",
   "execution_count": 118,
   "id": "6e4c1d0e",
   "metadata": {},
   "outputs": [
    {
     "name": "stdout",
     "output_type": "stream",
     "text": [
      "R^2 Score = 0.64\n"
     ]
    }
   ],
   "source": [
    "# R square score\n",
    "\n",
    "y_pred = lr.predict(X_test)\n",
    "r2 = lr.score(X_test, y_test)\n",
    "print (\"R^2 Score = {:.2f}\".format(r2))"
   ]
  },
  {
   "cell_type": "code",
   "execution_count": 119,
   "id": "d290b6d4",
   "metadata": {},
   "outputs": [
    {
     "name": "stdout",
     "output_type": "stream",
     "text": [
      "[12020.512906   21111.97636441   -85.96177934   -40.01958686\n",
      "   603.56331564 -1342.21000736]\n"
     ]
    }
   ],
   "source": [
    "print (lr.coef_)"
   ]
  },
  {
   "cell_type": "code",
   "execution_count": 120,
   "id": "88995c96",
   "metadata": {},
   "outputs": [
    {
     "data": {
      "text/html": [
       "<div>\n",
       "<style scoped>\n",
       "    .dataframe tbody tr th:only-of-type {\n",
       "        vertical-align: middle;\n",
       "    }\n",
       "\n",
       "    .dataframe tbody tr th {\n",
       "        vertical-align: top;\n",
       "    }\n",
       "\n",
       "    .dataframe thead th {\n",
       "        text-align: right;\n",
       "    }\n",
       "</style>\n",
       "<table border=\"1\" class=\"dataframe\">\n",
       "  <thead>\n",
       "    <tr style=\"text-align: right;\">\n",
       "      <th></th>\n",
       "      <th>revenue</th>\n",
       "      <th>prediction</th>\n",
       "    </tr>\n",
       "  </thead>\n",
       "  <tbody>\n",
       "    <tr>\n",
       "      <th>754</th>\n",
       "      <td>3145.0</td>\n",
       "      <td>7110.850623</td>\n",
       "    </tr>\n",
       "    <tr>\n",
       "      <th>262</th>\n",
       "      <td>12067.0</td>\n",
       "      <td>10200.373144</td>\n",
       "    </tr>\n",
       "    <tr>\n",
       "      <th>821</th>\n",
       "      <td>2820.0</td>\n",
       "      <td>3409.641704</td>\n",
       "    </tr>\n",
       "    <tr>\n",
       "      <th>269</th>\n",
       "      <td>11809.0</td>\n",
       "      <td>7299.892286</td>\n",
       "    </tr>\n",
       "    <tr>\n",
       "      <th>311</th>\n",
       "      <td>10168.0</td>\n",
       "      <td>11653.105994</td>\n",
       "    </tr>\n",
       "  </tbody>\n",
       "</table>\n",
       "</div>"
      ],
      "text/plain": [
       "     revenue    prediction\n",
       "754   3145.0   7110.850623\n",
       "262  12067.0  10200.373144\n",
       "821   2820.0   3409.641704\n",
       "269  11809.0   7299.892286\n",
       "311  10168.0  11653.105994"
      ]
     },
     "execution_count": 120,
     "metadata": {},
     "output_type": "execute_result"
    }
   ],
   "source": [
    "#Result Comparison\n",
    "\n",
    "result = pd.DataFrame(y_test)\n",
    "result['prediction'] = y_pred\n",
    "result.head()"
   ]
  },
  {
   "cell_type": "code",
   "execution_count": 121,
   "id": "a3f94e23",
   "metadata": {},
   "outputs": [
    {
     "data": {
      "text/plain": [
       "<seaborn.axisgrid.FacetGrid at 0x1b0d2f0ccc0>"
      ]
     },
     "execution_count": 121,
     "metadata": {},
     "output_type": "execute_result"
    },
    {
     "data": {
      "image/png": "[encoded data removed]",
      "text/plain": [
       "<Figure size 360x360 with 1 Axes>"
      ]
     },
     "metadata": {
      "needs_background": "light"
     },
     "output_type": "display_data"
    }
   ],
   "source": [
    "sns.lmplot(data=data,x='revenue', y='profit')"
   ]
  }
 ],
 "metadata": {
  "kernelspec": {
   "display_name": "Python 3",
   "language": "python",
   "name": "python3"
  },
  "language_info": {
   "codemirror_mode": {
    "name": "ipython",
    "version": 3
   },
   "file_extension": ".py",
   "mimetype": "text/x-python",
   "name": "python",
   "nbconvert_exporter": "python",
   "pygments_lexer": "ipython3",
   "version": "3.7.10"
  }
 },
 "nbformat": 4,
 "nbformat_minor": 5
}
